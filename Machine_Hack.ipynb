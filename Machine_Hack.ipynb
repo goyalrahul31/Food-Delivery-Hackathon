{
 "cells": [
  {
   "cell_type": "code",
   "execution_count": 1,
   "metadata": {},
   "outputs": [],
   "source": [
    "import pandas as pd\n",
    "import numpy as np\n",
    "import re\n",
    "import matplotlib.pyplot as plt\n",
    "import seaborn as sns\n",
    "from itertools import chain\n",
    "\n"
   ]
  },
  {
   "cell_type": "code",
   "execution_count": null,
   "metadata": {},
   "outputs": [],
   "source": []
  },
  {
   "cell_type": "code",
   "execution_count": 2,
   "metadata": {},
   "outputs": [],
   "source": [
    "\n",
    "data1= pd.read_excel ('Data_Train.xlsx')\n",
    "data2=pd.read_excel('Data_Test.xlsx')"
   ]
  },
  {
   "cell_type": "code",
   "execution_count": null,
   "metadata": {},
   "outputs": [],
   "source": []
  },
  {
   "cell_type": "code",
   "execution_count": 3,
   "metadata": {},
   "outputs": [
    {
     "data": {
      "text/plain": [
       "Restaurant       object\n",
       "Location         object\n",
       "Cuisines         object\n",
       "Average_Cost     object\n",
       "Minimum_Order    object\n",
       "Rating           object\n",
       "Votes            object\n",
       "Reviews          object\n",
       "Delivery_Time    object\n",
       "dtype: object"
      ]
     },
     "execution_count": 3,
     "metadata": {},
     "output_type": "execute_result"
    }
   ],
   "source": [
    "data1.dtypes"
   ]
  },
  {
   "cell_type": "code",
   "execution_count": 4,
   "metadata": {},
   "outputs": [],
   "source": [
    "data1['Average_Cost'] = data1['Average_Cost'].replace('₹', '')"
   ]
  },
  {
   "cell_type": "code",
   "execution_count": 5,
   "metadata": {},
   "outputs": [],
   "source": [
    "#Strip the '₹' sign from every column having same symbol\n",
    "data1['Average_Cost'] = (data1['Average_Cost'].str.strip('₹'))\n",
    "data1['Minimum_Order'] = (data1['Minimum_Order'].str.strip('₹'))\n",
    "data2['Minimum_Order'] = (data2['Minimum_Order'].str.strip('₹'))\n",
    "data2['Average_Cost'] = (data2['Average_Cost'].str.strip('₹'))\n",
    "data1['Average_Cost'] = (data1['Average_Cost'].str.replace(',',''))\n",
    "data1['Minimum_Order'] = (data1['Minimum_Order'].str.replace(',',''))\n",
    "data2['Minimum_Order'] = (data2['Minimum_Order'].str.replace(',',''))\n",
    "data2['Average_Cost'] = (data2['Average_Cost'].str.replace(',',''))\n",
    "data1['Average_Cost'] = (data1['Average_Cost'].str.replace('-',''))\n",
    "data1['Minimum_Order'] = (data1['Minimum_Order'].str.replace('-',''))\n",
    "data2['Minimum_Order'] = (data2['Minimum_Order'].str.replace('-',''))\n",
    "data2['Average_Cost'] = (data2['Average_Cost'].str.replace('-',''))\n",
    "data1['Average_Cost'] = (data1['Average_Cost'].str.replace('for','00'))\n",
    "\n",
    "\n",
    "\n",
    "\n",
    "\n",
    "\n",
    "\n",
    "\n",
    "\n",
    "# data1.Rating.isnull()==\"\n",
    "#data1.isna().any()[lambda x: x]\n",
    "#data1.[data1.isna().any()].tolist()   \n",
    "#Check for null values in Train and Test Data.import locale\n"
   ]
  },
  {
   "cell_type": "code",
   "execution_count": 6,
   "metadata": {},
   "outputs": [],
   "source": [
    "#Convert the datatype of AVerage_Cost and Minimum_Order.\n",
    "# conv = lambda x: (x[1:-1])\n",
    "# data1.Average_Cost = data1.Average_Cost.apply(conv)\n",
    "data1['Average_Cost']=data1['Average_Cost'].astype(int)\n",
    "data2['Average_Cost']=data2['Average_Cost'].astype(int)\n",
    "data1['Minimum_Order']=data1['Minimum_Order'].astype(int)\n",
    "data2['Minimum_Order']=data2['Minimum_Order'].astype(int)"
   ]
  },
  {
   "cell_type": "code",
   "execution_count": 7,
   "metadata": {},
   "outputs": [
    {
     "data": {
      "text/plain": [
       "Restaurant       object\n",
       "Location         object\n",
       "Cuisines         object\n",
       "Average_Cost      int64\n",
       "Minimum_Order     int64\n",
       "Rating           object\n",
       "Votes            object\n",
       "Reviews          object\n",
       "Delivery_Time    object\n",
       "dtype: object"
      ]
     },
     "execution_count": 7,
     "metadata": {},
     "output_type": "execute_result"
    }
   ],
   "source": [
    "#Check the datatype after the conversion.\n",
    "data1.dtypes"
   ]
  },
  {
   "cell_type": "code",
   "execution_count": 8,
   "metadata": {},
   "outputs": [
    {
     "data": {
      "text/plain": [
       "Restaurant       object\n",
       "Location         object\n",
       "Cuisines         object\n",
       "Average_Cost      int64\n",
       "Minimum_Order     int64\n",
       "Rating           object\n",
       "Votes            object\n",
       "Reviews          object\n",
       "dtype: object"
      ]
     },
     "execution_count": 8,
     "metadata": {},
     "output_type": "execute_result"
    }
   ],
   "source": [
    "data2.dtypes"
   ]
  },
  {
   "cell_type": "code",
   "execution_count": 9,
   "metadata": {},
   "outputs": [
    {
     "name": "stdout",
     "output_type": "stream",
     "text": [
      "----------Missing value-----------\n",
      "Restaurant       0\n",
      "Location         0\n",
      "Cuisines         0\n",
      "Average_Cost     0\n",
      "Minimum_Order    0\n",
      "Rating           0\n",
      "Votes            0\n",
      "Reviews          0\n",
      "Delivery_Time    0\n",
      "dtype: int64\n",
      "----------Null value-----------\n",
      "Restaurant       0\n",
      "Location         0\n",
      "Cuisines         0\n",
      "Average_Cost     0\n",
      "Minimum_Order    0\n",
      "Rating           0\n",
      "Votes            0\n",
      "Reviews          0\n",
      "Delivery_Time    0\n",
      "dtype: int64\n"
     ]
    }
   ],
   "source": [
    "print(\"----------Missing value-----------\")\n",
    "print(data1.isnull().sum())\n",
    "print(\"----------Null value-----------\")\n",
    "print(data1.isna().sum())\n"
   ]
  },
  {
   "cell_type": "code",
   "execution_count": 10,
   "metadata": {},
   "outputs": [
    {
     "name": "stdout",
     "output_type": "stream",
     "text": [
      "Number of duplicates: 0\n"
     ]
    }
   ],
   "source": [
    "print('Number of duplicates:', len(data1[data1.duplicated()]))"
   ]
  },
  {
   "cell_type": "code",
   "execution_count": 11,
   "metadata": {},
   "outputs": [
    {
     "name": "stdout",
     "output_type": "stream",
     "text": [
      "18\n"
     ]
    }
   ],
   "source": [
    "print(len(data1['Minimum_Order'].unique()))\n",
    "#Check how many unique values in Minimum_order column."
   ]
  },
  {
   "cell_type": "code",
   "execution_count": 12,
   "metadata": {},
   "outputs": [
    {
     "data": {
      "text/plain": [
       "array(['30 minutes', '65 minutes', '45 minutes', '10 minutes',\n",
       "       '20 minutes', '120 minutes', '80 minutes'], dtype=object)"
      ]
     },
     "execution_count": 12,
     "metadata": {},
     "output_type": "execute_result"
    }
   ],
   "source": [
    "data1['Delivery_Time'].unique()    \n",
    "#Check how many unique values in Delivery_Time column so we need to distinuish this problem into calssifiaction problem.\n"
   ]
  },
  {
   "cell_type": "code",
   "execution_count": null,
   "metadata": {},
   "outputs": [],
   "source": []
  },
  {
   "cell_type": "code",
   "execution_count": 13,
   "metadata": {},
   "outputs": [],
   "source": [
    "#CONVERT delievery time column object into \n",
    "data1['Delivery_Time'] = (data1['Delivery_Time'].str.replace('minutes',''))\n",
    "data1['Delivery_Time']=data1['Delivery_Time'].astype(int)"
   ]
  },
  {
   "cell_type": "code",
   "execution_count": 14,
   "metadata": {},
   "outputs": [
    {
     "data": {
      "text/plain": [
       "dtype('int64')"
      ]
     },
     "execution_count": 14,
     "metadata": {},
     "output_type": "execute_result"
    }
   ],
   "source": [
    "data1.Delivery_Time.dtype"
   ]
  },
  {
   "cell_type": "code",
   "execution_count": 15,
   "metadata": {},
   "outputs": [
    {
     "data": {
      "text/html": [
       "<div>\n",
       "<style scoped>\n",
       "    .dataframe tbody tr th:only-of-type {\n",
       "        vertical-align: middle;\n",
       "    }\n",
       "\n",
       "    .dataframe tbody tr th {\n",
       "        vertical-align: top;\n",
       "    }\n",
       "\n",
       "    .dataframe thead th {\n",
       "        text-align: right;\n",
       "    }\n",
       "</style>\n",
       "<table border=\"1\" class=\"dataframe\">\n",
       "  <thead>\n",
       "    <tr style=\"text-align: right;\">\n",
       "      <th></th>\n",
       "      <th>Restaurant</th>\n",
       "      <th>Location</th>\n",
       "      <th>Cuisines</th>\n",
       "      <th>Average_Cost</th>\n",
       "      <th>Minimum_Order</th>\n",
       "      <th>Rating</th>\n",
       "      <th>Votes</th>\n",
       "      <th>Reviews</th>\n",
       "      <th>Delivery_Time</th>\n",
       "    </tr>\n",
       "  </thead>\n",
       "  <tbody>\n",
       "    <tr>\n",
       "      <th>0</th>\n",
       "      <td>ID_6321</td>\n",
       "      <td>FTI College, Law College Road, Pune</td>\n",
       "      <td>Fast Food, Rolls, Burger, Salad, Wraps</td>\n",
       "      <td>200</td>\n",
       "      <td>50</td>\n",
       "      <td>3.5</td>\n",
       "      <td>12</td>\n",
       "      <td>4</td>\n",
       "      <td>30</td>\n",
       "    </tr>\n",
       "    <tr>\n",
       "      <th>1</th>\n",
       "      <td>ID_2882</td>\n",
       "      <td>Sector 3, Marathalli</td>\n",
       "      <td>Ice Cream, Desserts</td>\n",
       "      <td>100</td>\n",
       "      <td>50</td>\n",
       "      <td>3.5</td>\n",
       "      <td>11</td>\n",
       "      <td>4</td>\n",
       "      <td>30</td>\n",
       "    </tr>\n",
       "    <tr>\n",
       "      <th>2</th>\n",
       "      <td>ID_1595</td>\n",
       "      <td>Mumbai Central</td>\n",
       "      <td>Italian, Street Food, Fast Food</td>\n",
       "      <td>150</td>\n",
       "      <td>50</td>\n",
       "      <td>3.6</td>\n",
       "      <td>99</td>\n",
       "      <td>30</td>\n",
       "      <td>65</td>\n",
       "    </tr>\n",
       "    <tr>\n",
       "      <th>3</th>\n",
       "      <td>ID_5929</td>\n",
       "      <td>Sector 1, Noida</td>\n",
       "      <td>Mughlai, North Indian, Chinese</td>\n",
       "      <td>250</td>\n",
       "      <td>99</td>\n",
       "      <td>3.7</td>\n",
       "      <td>176</td>\n",
       "      <td>95</td>\n",
       "      <td>30</td>\n",
       "    </tr>\n",
       "  </tbody>\n",
       "</table>\n",
       "</div>"
      ],
      "text/plain": [
       "  Restaurant                             Location  \\\n",
       "0    ID_6321  FTI College, Law College Road, Pune   \n",
       "1    ID_2882                 Sector 3, Marathalli   \n",
       "2    ID_1595                       Mumbai Central   \n",
       "3    ID_5929                      Sector 1, Noida   \n",
       "\n",
       "                                 Cuisines  Average_Cost  Minimum_Order Rating  \\\n",
       "0  Fast Food, Rolls, Burger, Salad, Wraps           200             50    3.5   \n",
       "1                     Ice Cream, Desserts           100             50    3.5   \n",
       "2         Italian, Street Food, Fast Food           150             50    3.6   \n",
       "3          Mughlai, North Indian, Chinese           250             99    3.7   \n",
       "\n",
       "  Votes Reviews  Delivery_Time  \n",
       "0    12       4             30  \n",
       "1    11       4             30  \n",
       "2    99      30             65  \n",
       "3   176      95             30  "
      ]
     },
     "execution_count": 15,
     "metadata": {},
     "output_type": "execute_result"
    }
   ],
   "source": [
    "data1.head(4)"
   ]
  },
  {
   "cell_type": "code",
   "execution_count": 16,
   "metadata": {},
   "outputs": [
    {
     "data": {
      "text/plain": [
       "<function matplotlib.pyplot.show(*args, **kw)>"
      ]
     },
     "execution_count": 16,
     "metadata": {},
     "output_type": "execute_result"
    },
    {
     "data": {
      "image/png": "[encoded data removed]",
      "text/plain": [
       "<Figure size 432x288 with 1 Axes>"
      ]
     },
     "metadata": {
      "needs_background": "light"
     },
     "output_type": "display_data"
    }
   ],
   "source": [
    "data1['log_delievery_time']=np.log(data1['Delivery_Time'].values+1)\n",
    "plt.hist(data1['log_delievery_time'].values,bins=100)\n",
    "plt.xlabel(\"log delievery time\")\n",
    "plt.ylabel(\"number of training data\")\n",
    "plt.show"
   ]
  },
  {
   "cell_type": "code",
   "execution_count": 17,
   "metadata": {},
   "outputs": [],
   "source": [
    "pd.to_numeric(data1.Rating, errors='coerce')\n",
    "data1['Rating']= data1['Rating'].apply(pd.to_numeric, errors='coerce').fillna(0)"
   ]
  },
  {
   "cell_type": "code",
   "execution_count": 18,
   "metadata": {},
   "outputs": [],
   "source": [
    "pd.to_numeric(data2.Rating, errors='coerce')\n",
    "data2['Rating']= data2['Rating'].apply(pd.to_numeric, errors='coerce').fillna(0)"
   ]
  },
  {
   "cell_type": "code",
   "execution_count": 19,
   "metadata": {},
   "outputs": [],
   "source": [
    "pd.to_numeric(data1.Votes, errors='coerce')\n",
    "data1['Votes']= data1['Votes'].apply(pd.to_numeric, errors='coerce').fillna(0)"
   ]
  },
  {
   "cell_type": "code",
   "execution_count": 20,
   "metadata": {},
   "outputs": [],
   "source": [
    "pd.to_numeric(data2.Votes, errors='coerce')\n",
    "data2['Votes']= data2['Votes'].apply(pd.to_numeric, errors='coerce').fillna(0)"
   ]
  },
  {
   "cell_type": "code",
   "execution_count": 21,
   "metadata": {},
   "outputs": [],
   "source": [
    "pd.to_numeric(data1.Reviews, errors='coerce')\n",
    "data1['Reviews']= data1['Reviews'].apply(pd.to_numeric, errors='coerce').fillna(0)"
   ]
  },
  {
   "cell_type": "code",
   "execution_count": 22,
   "metadata": {},
   "outputs": [],
   "source": [
    "pd.to_numeric(data2.Reviews, errors='coerce')\n",
    "data2['Reviews']= data2['Reviews'].apply(pd.to_numeric, errors='coerce').fillna(0)"
   ]
  },
  {
   "cell_type": "code",
   "execution_count": 23,
   "metadata": {},
   "outputs": [
    {
     "data": {
      "text/plain": [
       "Restaurant             object\n",
       "Location               object\n",
       "Cuisines               object\n",
       "Average_Cost            int64\n",
       "Minimum_Order           int64\n",
       "Rating                float64\n",
       "Votes                 float64\n",
       "Reviews               float64\n",
       "Delivery_Time           int64\n",
       "log_delievery_time    float64\n",
       "dtype: object"
      ]
     },
     "execution_count": 23,
     "metadata": {},
     "output_type": "execute_result"
    }
   ],
   "source": [
    "data1.dtypes"
   ]
  },
  {
   "cell_type": "code",
   "execution_count": 24,
   "metadata": {},
   "outputs": [
    {
     "data": {
      "text/plain": [
       "Restaurant        object\n",
       "Location          object\n",
       "Cuisines          object\n",
       "Average_Cost       int64\n",
       "Minimum_Order      int64\n",
       "Rating           float64\n",
       "Votes            float64\n",
       "Reviews          float64\n",
       "dtype: object"
      ]
     },
     "execution_count": 24,
     "metadata": {},
     "output_type": "execute_result"
    }
   ],
   "source": [
    "data2.dtypes"
   ]
  },
  {
   "cell_type": "code",
   "execution_count": 25,
   "metadata": {},
   "outputs": [
    {
     "name": "stdout",
     "output_type": "stream",
     "text": [
      "Train set mean of Votes : 198.8273841716243\n",
      "Test set mean of Votes : 182.58976207642394\n",
      "Train set mean of Reviews : 97.5629168920137\n",
      "Test set mean of Reviews : 87.59444844989186\n",
      "Train set mean of Rating : 2.974085091040189\n",
      "Test set mean of Rating : 2.9420692141312177\n"
     ]
    }
   ],
   "source": [
    "print(\"Train set mean of Votes :\",data1.Votes.mean())\n",
    "print(\"Test set mean of Votes :\",data2.Votes.mean())\n",
    "print(\"Train set mean of Reviews :\",data1.Reviews.mean())\n",
    "print(\"Test set mean of Reviews :\",data2.Reviews.mean())\n",
    "print(\"Train set mean of Rating :\",data1.Rating.mean())\n",
    "print(\"Test set mean of Rating :\",data2.Rating.mean())"
   ]
  },
  {
   "cell_type": "code",
   "execution_count": 26,
   "metadata": {},
   "outputs": [
    {
     "data": {
      "text/html": [
       "<div>\n",
       "<style scoped>\n",
       "    .dataframe tbody tr th:only-of-type {\n",
       "        vertical-align: middle;\n",
       "    }\n",
       "\n",
       "    .dataframe tbody tr th {\n",
       "        vertical-align: top;\n",
       "    }\n",
       "\n",
       "    .dataframe thead th {\n",
       "        text-align: right;\n",
       "    }\n",
       "</style>\n",
       "<table border=\"1\" class=\"dataframe\">\n",
       "  <thead>\n",
       "    <tr style=\"text-align: right;\">\n",
       "      <th></th>\n",
       "      <th>Average_Cost</th>\n",
       "      <th>Minimum_Order</th>\n",
       "      <th>Rating</th>\n",
       "      <th>Votes</th>\n",
       "      <th>Reviews</th>\n",
       "      <th>Delivery_Time</th>\n",
       "      <th>log_delievery_time</th>\n",
       "    </tr>\n",
       "  </thead>\n",
       "  <tbody>\n",
       "    <tr>\n",
       "      <th>count</th>\n",
       "      <td>11094.000000</td>\n",
       "      <td>11094.000000</td>\n",
       "      <td>11094.000000</td>\n",
       "      <td>11094.000000</td>\n",
       "      <td>11094.000000</td>\n",
       "      <td>11094.000000</td>\n",
       "      <td>11094.000000</td>\n",
       "    </tr>\n",
       "    <tr>\n",
       "      <th>mean</th>\n",
       "      <td>202.690644</td>\n",
       "      <td>53.344511</td>\n",
       "      <td>2.974085</td>\n",
       "      <td>198.827384</td>\n",
       "      <td>97.562917</td>\n",
       "      <td>37.056066</td>\n",
       "      <td>3.599408</td>\n",
       "    </tr>\n",
       "    <tr>\n",
       "      <th>std</th>\n",
       "      <td>129.847522</td>\n",
       "      <td>18.551245</td>\n",
       "      <td>1.429344</td>\n",
       "      <td>509.520666</td>\n",
       "      <td>289.972698</td>\n",
       "      <td>12.447496</td>\n",
       "      <td>0.264111</td>\n",
       "    </tr>\n",
       "    <tr>\n",
       "      <th>min</th>\n",
       "      <td>0.000000</td>\n",
       "      <td>0.000000</td>\n",
       "      <td>0.000000</td>\n",
       "      <td>0.000000</td>\n",
       "      <td>0.000000</td>\n",
       "      <td>10.000000</td>\n",
       "      <td>2.397895</td>\n",
       "    </tr>\n",
       "    <tr>\n",
       "      <th>25%</th>\n",
       "      <td>100.000000</td>\n",
       "      <td>50.000000</td>\n",
       "      <td>3.000000</td>\n",
       "      <td>7.000000</td>\n",
       "      <td>2.000000</td>\n",
       "      <td>30.000000</td>\n",
       "      <td>3.433987</td>\n",
       "    </tr>\n",
       "    <tr>\n",
       "      <th>50%</th>\n",
       "      <td>200.000000</td>\n",
       "      <td>50.000000</td>\n",
       "      <td>3.500000</td>\n",
       "      <td>37.000000</td>\n",
       "      <td>14.000000</td>\n",
       "      <td>30.000000</td>\n",
       "      <td>3.433987</td>\n",
       "    </tr>\n",
       "    <tr>\n",
       "      <th>75%</th>\n",
       "      <td>200.000000</td>\n",
       "      <td>50.000000</td>\n",
       "      <td>3.800000</td>\n",
       "      <td>157.000000</td>\n",
       "      <td>63.000000</td>\n",
       "      <td>45.000000</td>\n",
       "      <td>3.828641</td>\n",
       "    </tr>\n",
       "    <tr>\n",
       "      <th>max</th>\n",
       "      <td>2050.000000</td>\n",
       "      <td>500.000000</td>\n",
       "      <td>4.900000</td>\n",
       "      <td>9054.000000</td>\n",
       "      <td>6504.000000</td>\n",
       "      <td>120.000000</td>\n",
       "      <td>4.795791</td>\n",
       "    </tr>\n",
       "  </tbody>\n",
       "</table>\n",
       "</div>"
      ],
      "text/plain": [
       "       Average_Cost  Minimum_Order        Rating         Votes       Reviews  \\\n",
       "count  11094.000000   11094.000000  11094.000000  11094.000000  11094.000000   \n",
       "mean     202.690644      53.344511      2.974085    198.827384     97.562917   \n",
       "std      129.847522      18.551245      1.429344    509.520666    289.972698   \n",
       "min        0.000000       0.000000      0.000000      0.000000      0.000000   \n",
       "25%      100.000000      50.000000      3.000000      7.000000      2.000000   \n",
       "50%      200.000000      50.000000      3.500000     37.000000     14.000000   \n",
       "75%      200.000000      50.000000      3.800000    157.000000     63.000000   \n",
       "max     2050.000000     500.000000      4.900000   9054.000000   6504.000000   \n",
       "\n",
       "       Delivery_Time  log_delievery_time  \n",
       "count   11094.000000        11094.000000  \n",
       "mean       37.056066            3.599408  \n",
       "std        12.447496            0.264111  \n",
       "min        10.000000            2.397895  \n",
       "25%        30.000000            3.433987  \n",
       "50%        30.000000            3.433987  \n",
       "75%        45.000000            3.828641  \n",
       "max       120.000000            4.795791  "
      ]
     },
     "execution_count": 26,
     "metadata": {},
     "output_type": "execute_result"
    }
   ],
   "source": [
    "data1.describe()"
   ]
  },
  {
   "cell_type": "code",
   "execution_count": 27,
   "metadata": {},
   "outputs": [],
   "source": [
    "data1['Votes']=data1['Votes'].replace(0.0,236.00)\n",
    "data2['Votes']=data2['Votes'].replace(0.0,182.00)\n",
    "data1['Reviews']=data1['Reviews'].replace(0.0,97.6)\n",
    "data2['Reviews']=data2['Reviews'].replace(0.0,87.5)\n",
    "data1['Rating']=data1['Rating'].replace(0.0,2.98)\n",
    "data2['Rating']=data2['Rating'].replace(0.0,2.95)\n"
   ]
  },
  {
   "cell_type": "code",
   "execution_count": 28,
   "metadata": {},
   "outputs": [
    {
     "data": {
      "text/plain": [
       "<function matplotlib.pyplot.show(*args, **kw)>"
      ]
     },
     "execution_count": 28,
     "metadata": {},
     "output_type": "execute_result"
    },
    {
     "data": {
      "image/png": "[encoded data removed]",
      "text/plain": [
       "<Figure size 432x288 with 1 Axes>"
      ]
     },
     "metadata": {
      "needs_background": "light"
     },
     "output_type": "display_data"
    }
   ],
   "source": [
    "data1['log_delievery_time']=np.log(data1['Delivery_Time'].values+1)\n",
    "plt.hist(data1['log_delievery_time'].values,bins=100)\n",
    "plt.xlabel(\"log delievery time\")\n",
    "plt.ylabel(\"number of training data\")\n",
    "plt.show"
   ]
  },
  {
   "cell_type": "code",
   "execution_count": 29,
   "metadata": {},
   "outputs": [
    {
     "data": {
      "text/html": [
       "<div>\n",
       "<style scoped>\n",
       "    .dataframe tbody tr th:only-of-type {\n",
       "        vertical-align: middle;\n",
       "    }\n",
       "\n",
       "    .dataframe tbody tr th {\n",
       "        vertical-align: top;\n",
       "    }\n",
       "\n",
       "    .dataframe thead th {\n",
       "        text-align: right;\n",
       "    }\n",
       "</style>\n",
       "<table border=\"1\" class=\"dataframe\">\n",
       "  <thead>\n",
       "    <tr style=\"text-align: right;\">\n",
       "      <th></th>\n",
       "      <th>Restaurant</th>\n",
       "      <th>Location</th>\n",
       "      <th>Cuisines</th>\n",
       "    </tr>\n",
       "  </thead>\n",
       "  <tbody>\n",
       "    <tr>\n",
       "      <th>count</th>\n",
       "      <td>11094</td>\n",
       "      <td>11094</td>\n",
       "      <td>11094</td>\n",
       "    </tr>\n",
       "    <tr>\n",
       "      <th>unique</th>\n",
       "      <td>7480</td>\n",
       "      <td>35</td>\n",
       "      <td>2179</td>\n",
       "    </tr>\n",
       "    <tr>\n",
       "      <th>top</th>\n",
       "      <td>ID_7184</td>\n",
       "      <td>Mico Layout, Stage 2, BTM Layout,Bangalore</td>\n",
       "      <td>North Indian</td>\n",
       "    </tr>\n",
       "    <tr>\n",
       "      <th>freq</th>\n",
       "      <td>22</td>\n",
       "      <td>947</td>\n",
       "      <td>850</td>\n",
       "    </tr>\n",
       "  </tbody>\n",
       "</table>\n",
       "</div>"
      ],
      "text/plain": [
       "       Restaurant                                    Location      Cuisines\n",
       "count       11094                                       11094         11094\n",
       "unique       7480                                          35          2179\n",
       "top       ID_7184  Mico Layout, Stage 2, BTM Layout,Bangalore  North Indian\n",
       "freq           22                                         947           850"
      ]
     },
     "execution_count": 29,
     "metadata": {},
     "output_type": "execute_result"
    }
   ],
   "source": [
    "data1.describe(include='object')"
   ]
  },
  {
   "cell_type": "code",
   "execution_count": 30,
   "metadata": {},
   "outputs": [
    {
     "data": {
      "text/html": [
       "<div>\n",
       "<style scoped>\n",
       "    .dataframe tbody tr th:only-of-type {\n",
       "        vertical-align: middle;\n",
       "    }\n",
       "\n",
       "    .dataframe tbody tr th {\n",
       "        vertical-align: top;\n",
       "    }\n",
       "\n",
       "    .dataframe thead th {\n",
       "        text-align: right;\n",
       "    }\n",
       "</style>\n",
       "<table border=\"1\" class=\"dataframe\">\n",
       "  <thead>\n",
       "    <tr style=\"text-align: right;\">\n",
       "      <th></th>\n",
       "      <th>Average_Cost</th>\n",
       "      <th>Minimum_Order</th>\n",
       "      <th>Rating</th>\n",
       "      <th>Votes</th>\n",
       "      <th>Reviews</th>\n",
       "    </tr>\n",
       "  </thead>\n",
       "  <tbody>\n",
       "    <tr>\n",
       "      <th>count</th>\n",
       "      <td>2774.000000</td>\n",
       "      <td>2774.000000</td>\n",
       "      <td>2774.000000</td>\n",
       "      <td>2774.000000</td>\n",
       "      <td>2774.000000</td>\n",
       "    </tr>\n",
       "    <tr>\n",
       "      <th>mean</th>\n",
       "      <td>195.385725</td>\n",
       "      <td>53.300288</td>\n",
       "      <td>3.481236</td>\n",
       "      <td>218.149964</td>\n",
       "      <td>106.299387</td>\n",
       "    </tr>\n",
       "    <tr>\n",
       "      <th>std</th>\n",
       "      <td>114.509785</td>\n",
       "      <td>18.619802</td>\n",
       "      <td>0.447750</td>\n",
       "      <td>472.622516</td>\n",
       "      <td>259.596936</td>\n",
       "    </tr>\n",
       "    <tr>\n",
       "      <th>min</th>\n",
       "      <td>50.000000</td>\n",
       "      <td>0.000000</td>\n",
       "      <td>2.100000</td>\n",
       "      <td>4.000000</td>\n",
       "      <td>1.000000</td>\n",
       "    </tr>\n",
       "    <tr>\n",
       "      <th>25%</th>\n",
       "      <td>100.000000</td>\n",
       "      <td>50.000000</td>\n",
       "      <td>3.000000</td>\n",
       "      <td>24.250000</td>\n",
       "      <td>10.000000</td>\n",
       "    </tr>\n",
       "    <tr>\n",
       "      <th>50%</th>\n",
       "      <td>200.000000</td>\n",
       "      <td>50.000000</td>\n",
       "      <td>3.500000</td>\n",
       "      <td>108.000000</td>\n",
       "      <td>48.000000</td>\n",
       "    </tr>\n",
       "    <tr>\n",
       "      <th>75%</th>\n",
       "      <td>200.000000</td>\n",
       "      <td>50.000000</td>\n",
       "      <td>3.800000</td>\n",
       "      <td>182.000000</td>\n",
       "      <td>87.500000</td>\n",
       "    </tr>\n",
       "    <tr>\n",
       "      <th>max</th>\n",
       "      <td>1200.000000</td>\n",
       "      <td>500.000000</td>\n",
       "      <td>4.800000</td>\n",
       "      <td>7811.000000</td>\n",
       "      <td>3863.000000</td>\n",
       "    </tr>\n",
       "  </tbody>\n",
       "</table>\n",
       "</div>"
      ],
      "text/plain": [
       "       Average_Cost  Minimum_Order       Rating        Votes      Reviews\n",
       "count   2774.000000    2774.000000  2774.000000  2774.000000  2774.000000\n",
       "mean     195.385725      53.300288     3.481236   218.149964   106.299387\n",
       "std      114.509785      18.619802     0.447750   472.622516   259.596936\n",
       "min       50.000000       0.000000     2.100000     4.000000     1.000000\n",
       "25%      100.000000      50.000000     3.000000    24.250000    10.000000\n",
       "50%      200.000000      50.000000     3.500000   108.000000    48.000000\n",
       "75%      200.000000      50.000000     3.800000   182.000000    87.500000\n",
       "max     1200.000000     500.000000     4.800000  7811.000000  3863.000000"
      ]
     },
     "execution_count": 30,
     "metadata": {},
     "output_type": "execute_result"
    }
   ],
   "source": [
    "data2.describe()"
   ]
  },
  {
   "cell_type": "code",
   "execution_count": 31,
   "metadata": {},
   "outputs": [
    {
     "name": "stdout",
     "output_type": "stream",
     "text": [
      "----------Missing value-----------\n",
      "Restaurant            0\n",
      "Location              0\n",
      "Cuisines              0\n",
      "Average_Cost          0\n",
      "Minimum_Order         0\n",
      "Rating                0\n",
      "Votes                 0\n",
      "Reviews               0\n",
      "Delivery_Time         0\n",
      "log_delievery_time    0\n",
      "dtype: int64\n",
      "----------Null value-----------\n",
      "Restaurant            0\n",
      "Location              0\n",
      "Cuisines              0\n",
      "Average_Cost          0\n",
      "Minimum_Order         0\n",
      "Rating                0\n",
      "Votes                 0\n",
      "Reviews               0\n",
      "Delivery_Time         0\n",
      "log_delievery_time    0\n",
      "dtype: int64\n"
     ]
    }
   ],
   "source": [
    "print(\"----------Missing value-----------\")\n",
    "print(data1.isnull().sum())\n",
    "print(\"----------Null value-----------\")\n",
    "print(data1.isna().sum())\n"
   ]
  },
  {
   "cell_type": "code",
   "execution_count": 32,
   "metadata": {},
   "outputs": [],
   "source": [
    "data2['Reviews']=data2['Reviews'].astype(int)\n",
    "data1['Reviews']=data1['Reviews'].astype(int)\n",
    "data2['Votes']=data2['Votes'].astype(int)\n",
    "data1['Votes']=data1['Votes'].astype(int)"
   ]
  },
  {
   "cell_type": "code",
   "execution_count": 33,
   "metadata": {},
   "outputs": [
    {
     "data": {
      "text/plain": [
       "Restaurant             object\n",
       "Location               object\n",
       "Cuisines               object\n",
       "Average_Cost            int64\n",
       "Minimum_Order           int64\n",
       "Rating                float64\n",
       "Votes                   int64\n",
       "Reviews                 int64\n",
       "Delivery_Time           int64\n",
       "log_delievery_time    float64\n",
       "dtype: object"
      ]
     },
     "execution_count": 33,
     "metadata": {},
     "output_type": "execute_result"
    }
   ],
   "source": [
    "data1.dtypes"
   ]
  },
  {
   "cell_type": "code",
   "execution_count": 34,
   "metadata": {},
   "outputs": [
    {
     "data": {
      "text/plain": [
       "Restaurant        object\n",
       "Location          object\n",
       "Cuisines          object\n",
       "Average_Cost       int64\n",
       "Minimum_Order      int64\n",
       "Rating           float64\n",
       "Votes              int64\n",
       "Reviews            int64\n",
       "dtype: object"
      ]
     },
     "execution_count": 34,
     "metadata": {},
     "output_type": "execute_result"
    }
   ],
   "source": [
    "data2.dtypes"
   ]
  },
  {
   "cell_type": "code",
   "execution_count": 35,
   "metadata": {},
   "outputs": [],
   "source": [
    "# print(len(set(data1['Restaurant'])))\n",
    "# print(len(set(data2['Restaurant'])))\n",
    "# a1=set(data1['Restaurant'])\n",
    "\n",
    "# a2=set(data2['Restaurant'])"
   ]
  },
  {
   "cell_type": "code",
   "execution_count": 36,
   "metadata": {},
   "outputs": [
    {
     "data": {
      "text/plain": [
       "30     7406\n",
       "45     2665\n",
       "65      923\n",
       "120      62\n",
       "20       20\n",
       "80       14\n",
       "10        4\n",
       "Name: Delivery_Time, dtype: int64"
      ]
     },
     "execution_count": 36,
     "metadata": {},
     "output_type": "execute_result"
    }
   ],
   "source": [
    "data1['Delivery_Time'].value_counts()"
   ]
  },
  {
   "cell_type": "code",
   "execution_count": 37,
   "metadata": {},
   "outputs": [],
   "source": [
    "cities={'Pune':['FTI College, Law College Road, Pune','Pune University','MG Road, Pune','Nathan Road, Mangaldas Road, Pune']\n",
    "        ,'Noida':['Sector 1, Noida','D-Block, Sector 63, Noida','Sector 14, Noida']\n",
    "        ,'Kolkata':['Moulali, Kolkata','Gora Bazar, Rajbari, North Dumdum, Kolkata','Tiretti, Kolkata','Chandni Chowk, Kolkata','Raja Bazar, Kolkata']\n",
    "        ,'Bangalore':['Sector 3, Marathalli','Rmz Centennial, I Gate, Whitefield','Mico Layout, Stage 2, BTM Layout,Bangalore','Majestic','BTM Layout 1, Electronic City']\n",
    "        ,'Mumbai':['Mumbai Central','Yerawada, Pune, Maharashtra','Dockyard Road, Mumbai CST Area','Sandhurst Road, Mumbai CST Area','Tejas Nagar Colony, Wadala West, Mumbai']\n",
    "        ,'Hyderabad':['Hyderabad Public School, Begumpet','Chatta Bazaar, Malakpet, Hyderabad','Panjetan Colony, Malakpet, Hyderabad','Jaya Nagar, Saidabad, Hyderabad','Noorkhan Bazaar, Malakpet, Hyderabad','Musi Nagar, Malakpet, Hyderabad']\n",
    "        ,'Delhi':['Delhi University-GTB Nagar','Delhi Administration Flats, Timarpur','Delhi High Court, India Gate','Delhi Cantt.','Babarpur, New Delhi, Delhi']\n",
    "       ,'Gurgoan':['Laxman Vihar Industrial Area, Sector 3A, Gurgoan','Sector 63A,Gurgaon']}\n"
   ]
  },
  {
   "cell_type": "code",
   "execution_count": 38,
   "metadata": {},
   "outputs": [],
   "source": [
    "for k, v in cities.items():\n",
    "     for i in v:\n",
    "         data1.loc[(data1.Location==i),'Location']=k\n"
   ]
  },
  {
   "cell_type": "code",
   "execution_count": 39,
   "metadata": {},
   "outputs": [
    {
     "data": {
      "text/html": [
       "<div>\n",
       "<style scoped>\n",
       "    .dataframe tbody tr th:only-of-type {\n",
       "        vertical-align: middle;\n",
       "    }\n",
       "\n",
       "    .dataframe tbody tr th {\n",
       "        vertical-align: top;\n",
       "    }\n",
       "\n",
       "    .dataframe thead th {\n",
       "        text-align: right;\n",
       "    }\n",
       "</style>\n",
       "<table border=\"1\" class=\"dataframe\">\n",
       "  <thead>\n",
       "    <tr style=\"text-align: right;\">\n",
       "      <th></th>\n",
       "      <th>Restaurant</th>\n",
       "      <th>Location</th>\n",
       "      <th>Cuisines</th>\n",
       "      <th>Average_Cost</th>\n",
       "      <th>Minimum_Order</th>\n",
       "      <th>Rating</th>\n",
       "      <th>Votes</th>\n",
       "      <th>Reviews</th>\n",
       "      <th>Delivery_Time</th>\n",
       "      <th>log_delievery_time</th>\n",
       "    </tr>\n",
       "  </thead>\n",
       "  <tbody>\n",
       "    <tr>\n",
       "      <th>0</th>\n",
       "      <td>ID_6321</td>\n",
       "      <td>Pune</td>\n",
       "      <td>Fast Food, Rolls, Burger, Salad, Wraps</td>\n",
       "      <td>200</td>\n",
       "      <td>50</td>\n",
       "      <td>3.50</td>\n",
       "      <td>12</td>\n",
       "      <td>4</td>\n",
       "      <td>30</td>\n",
       "      <td>3.433987</td>\n",
       "    </tr>\n",
       "    <tr>\n",
       "      <th>1</th>\n",
       "      <td>ID_2882</td>\n",
       "      <td>Bangalore</td>\n",
       "      <td>Ice Cream, Desserts</td>\n",
       "      <td>100</td>\n",
       "      <td>50</td>\n",
       "      <td>3.50</td>\n",
       "      <td>11</td>\n",
       "      <td>4</td>\n",
       "      <td>30</td>\n",
       "      <td>3.433987</td>\n",
       "    </tr>\n",
       "    <tr>\n",
       "      <th>2</th>\n",
       "      <td>ID_1595</td>\n",
       "      <td>Mumbai</td>\n",
       "      <td>Italian, Street Food, Fast Food</td>\n",
       "      <td>150</td>\n",
       "      <td>50</td>\n",
       "      <td>3.60</td>\n",
       "      <td>99</td>\n",
       "      <td>30</td>\n",
       "      <td>65</td>\n",
       "      <td>4.189655</td>\n",
       "    </tr>\n",
       "    <tr>\n",
       "      <th>3</th>\n",
       "      <td>ID_5929</td>\n",
       "      <td>Noida</td>\n",
       "      <td>Mughlai, North Indian, Chinese</td>\n",
       "      <td>250</td>\n",
       "      <td>99</td>\n",
       "      <td>3.70</td>\n",
       "      <td>176</td>\n",
       "      <td>95</td>\n",
       "      <td>30</td>\n",
       "      <td>3.433987</td>\n",
       "    </tr>\n",
       "    <tr>\n",
       "      <th>4</th>\n",
       "      <td>ID_6123</td>\n",
       "      <td>Bangalore</td>\n",
       "      <td>Cafe, Beverages</td>\n",
       "      <td>200</td>\n",
       "      <td>99</td>\n",
       "      <td>3.20</td>\n",
       "      <td>521</td>\n",
       "      <td>235</td>\n",
       "      <td>65</td>\n",
       "      <td>4.189655</td>\n",
       "    </tr>\n",
       "    <tr>\n",
       "      <th>5</th>\n",
       "      <td>ID_5221</td>\n",
       "      <td>Bangalore</td>\n",
       "      <td>South Indian, North Indian, Chinese</td>\n",
       "      <td>150</td>\n",
       "      <td>50</td>\n",
       "      <td>3.80</td>\n",
       "      <td>46</td>\n",
       "      <td>18</td>\n",
       "      <td>30</td>\n",
       "      <td>3.433987</td>\n",
       "    </tr>\n",
       "    <tr>\n",
       "      <th>6</th>\n",
       "      <td>ID_3777</td>\n",
       "      <td>Mumbai</td>\n",
       "      <td>Beverages, Fast Food</td>\n",
       "      <td>150</td>\n",
       "      <td>50</td>\n",
       "      <td>3.70</td>\n",
       "      <td>108</td>\n",
       "      <td>31</td>\n",
       "      <td>30</td>\n",
       "      <td>3.433987</td>\n",
       "    </tr>\n",
       "    <tr>\n",
       "      <th>7</th>\n",
       "      <td>ID_745</td>\n",
       "      <td>Delhi</td>\n",
       "      <td>Chinese, Thai, Asian</td>\n",
       "      <td>650</td>\n",
       "      <td>50</td>\n",
       "      <td>4.00</td>\n",
       "      <td>1731</td>\n",
       "      <td>1235</td>\n",
       "      <td>45</td>\n",
       "      <td>3.828641</td>\n",
       "    </tr>\n",
       "    <tr>\n",
       "      <th>8</th>\n",
       "      <td>ID_2970</td>\n",
       "      <td>Delhi</td>\n",
       "      <td>Mithai, Street Food</td>\n",
       "      <td>100</td>\n",
       "      <td>50</td>\n",
       "      <td>3.90</td>\n",
       "      <td>110</td>\n",
       "      <td>26</td>\n",
       "      <td>30</td>\n",
       "      <td>3.433987</td>\n",
       "    </tr>\n",
       "    <tr>\n",
       "      <th>9</th>\n",
       "      <td>ID_3474</td>\n",
       "      <td>Noida</td>\n",
       "      <td>Fast Food, North Indian, Rolls, Chinese, Momos...</td>\n",
       "      <td>200</td>\n",
       "      <td>50</td>\n",
       "      <td>3.90</td>\n",
       "      <td>562</td>\n",
       "      <td>294</td>\n",
       "      <td>65</td>\n",
       "      <td>4.189655</td>\n",
       "    </tr>\n",
       "    <tr>\n",
       "      <th>10</th>\n",
       "      <td>ID_5159</td>\n",
       "      <td>Mumbai</td>\n",
       "      <td>North Indian, Chinese, Mughlai</td>\n",
       "      <td>350</td>\n",
       "      <td>50</td>\n",
       "      <td>3.80</td>\n",
       "      <td>186</td>\n",
       "      <td>61</td>\n",
       "      <td>30</td>\n",
       "      <td>3.433987</td>\n",
       "    </tr>\n",
       "    <tr>\n",
       "      <th>11</th>\n",
       "      <td>ID_1696</td>\n",
       "      <td>Mumbai</td>\n",
       "      <td>Chinese, Thai, Indonesian, Italian</td>\n",
       "      <td>800</td>\n",
       "      <td>50</td>\n",
       "      <td>4.20</td>\n",
       "      <td>1693</td>\n",
       "      <td>1239</td>\n",
       "      <td>45</td>\n",
       "      <td>3.828641</td>\n",
       "    </tr>\n",
       "    <tr>\n",
       "      <th>12</th>\n",
       "      <td>ID_1156</td>\n",
       "      <td>Noida</td>\n",
       "      <td>Burger, Fast Food, Desserts, Beverages</td>\n",
       "      <td>150</td>\n",
       "      <td>50</td>\n",
       "      <td>2.98</td>\n",
       "      <td>236</td>\n",
       "      <td>97</td>\n",
       "      <td>30</td>\n",
       "      <td>3.433987</td>\n",
       "    </tr>\n",
       "    <tr>\n",
       "      <th>13</th>\n",
       "      <td>ID_354</td>\n",
       "      <td>Delhi</td>\n",
       "      <td>Beverages</td>\n",
       "      <td>50</td>\n",
       "      <td>0</td>\n",
       "      <td>3.80</td>\n",
       "      <td>184</td>\n",
       "      <td>128</td>\n",
       "      <td>45</td>\n",
       "      <td>3.828641</td>\n",
       "    </tr>\n",
       "    <tr>\n",
       "      <th>14</th>\n",
       "      <td>ID_6891</td>\n",
       "      <td>Delhi</td>\n",
       "      <td>Fast Food</td>\n",
       "      <td>100</td>\n",
       "      <td>50</td>\n",
       "      <td>3.50</td>\n",
       "      <td>23</td>\n",
       "      <td>5</td>\n",
       "      <td>30</td>\n",
       "      <td>3.433987</td>\n",
       "    </tr>\n",
       "    <tr>\n",
       "      <th>15</th>\n",
       "      <td>ID_6406</td>\n",
       "      <td>Kolkata</td>\n",
       "      <td>Biryani, Mughlai</td>\n",
       "      <td>100</td>\n",
       "      <td>50</td>\n",
       "      <td>3.60</td>\n",
       "      <td>353</td>\n",
       "      <td>53</td>\n",
       "      <td>30</td>\n",
       "      <td>3.433987</td>\n",
       "    </tr>\n",
       "    <tr>\n",
       "      <th>16</th>\n",
       "      <td>ID_2141</td>\n",
       "      <td>Noida</td>\n",
       "      <td>Italian</td>\n",
       "      <td>100</td>\n",
       "      <td>50</td>\n",
       "      <td>2.98</td>\n",
       "      <td>236</td>\n",
       "      <td>97</td>\n",
       "      <td>30</td>\n",
       "      <td>3.433987</td>\n",
       "    </tr>\n",
       "    <tr>\n",
       "      <th>17</th>\n",
       "      <td>ID_3355</td>\n",
       "      <td>Mumbai</td>\n",
       "      <td>Chinese, North Indian, South Indian, Fast Food</td>\n",
       "      <td>200</td>\n",
       "      <td>50</td>\n",
       "      <td>3.70</td>\n",
       "      <td>139</td>\n",
       "      <td>47</td>\n",
       "      <td>30</td>\n",
       "      <td>3.433987</td>\n",
       "    </tr>\n",
       "    <tr>\n",
       "      <th>18</th>\n",
       "      <td>ID_5262</td>\n",
       "      <td>Pune</td>\n",
       "      <td>Kerala, Bihari</td>\n",
       "      <td>150</td>\n",
       "      <td>50</td>\n",
       "      <td>2.98</td>\n",
       "      <td>236</td>\n",
       "      <td>97</td>\n",
       "      <td>30</td>\n",
       "      <td>3.433987</td>\n",
       "    </tr>\n",
       "    <tr>\n",
       "      <th>19</th>\n",
       "      <td>ID_8148</td>\n",
       "      <td>Kolkata</td>\n",
       "      <td>South Indian</td>\n",
       "      <td>100</td>\n",
       "      <td>50</td>\n",
       "      <td>3.70</td>\n",
       "      <td>159</td>\n",
       "      <td>46</td>\n",
       "      <td>30</td>\n",
       "      <td>3.433987</td>\n",
       "    </tr>\n",
       "    <tr>\n",
       "      <th>20</th>\n",
       "      <td>ID_1681</td>\n",
       "      <td>Noida</td>\n",
       "      <td>Chinese, North Indian, Rolls, Momos</td>\n",
       "      <td>200</td>\n",
       "      <td>99</td>\n",
       "      <td>2.80</td>\n",
       "      <td>67</td>\n",
       "      <td>23</td>\n",
       "      <td>45</td>\n",
       "      <td>3.828641</td>\n",
       "    </tr>\n",
       "    <tr>\n",
       "      <th>21</th>\n",
       "      <td>ID_3994</td>\n",
       "      <td>Noida</td>\n",
       "      <td>North Indian, Rolls</td>\n",
       "      <td>150</td>\n",
       "      <td>50</td>\n",
       "      <td>3.90</td>\n",
       "      <td>387</td>\n",
       "      <td>160</td>\n",
       "      <td>45</td>\n",
       "      <td>3.828641</td>\n",
       "    </tr>\n",
       "    <tr>\n",
       "      <th>22</th>\n",
       "      <td>ID_4012</td>\n",
       "      <td>Noida</td>\n",
       "      <td>North Indian, Chinese</td>\n",
       "      <td>250</td>\n",
       "      <td>50</td>\n",
       "      <td>3.00</td>\n",
       "      <td>5</td>\n",
       "      <td>2</td>\n",
       "      <td>30</td>\n",
       "      <td>3.433987</td>\n",
       "    </tr>\n",
       "    <tr>\n",
       "      <th>23</th>\n",
       "      <td>ID_240</td>\n",
       "      <td>Noida</td>\n",
       "      <td>Biryani, North Indian</td>\n",
       "      <td>200</td>\n",
       "      <td>99</td>\n",
       "      <td>3.70</td>\n",
       "      <td>138</td>\n",
       "      <td>26</td>\n",
       "      <td>65</td>\n",
       "      <td>4.189655</td>\n",
       "    </tr>\n",
       "    <tr>\n",
       "      <th>24</th>\n",
       "      <td>ID_4751</td>\n",
       "      <td>Bangalore</td>\n",
       "      <td>North Indian, Chinese, Fast Food</td>\n",
       "      <td>150</td>\n",
       "      <td>50</td>\n",
       "      <td>3.20</td>\n",
       "      <td>4</td>\n",
       "      <td>1</td>\n",
       "      <td>30</td>\n",
       "      <td>3.433987</td>\n",
       "    </tr>\n",
       "    <tr>\n",
       "      <th>25</th>\n",
       "      <td>ID_4944</td>\n",
       "      <td>Bangalore</td>\n",
       "      <td>Desserts, Ice Cream</td>\n",
       "      <td>100</td>\n",
       "      <td>50</td>\n",
       "      <td>2.98</td>\n",
       "      <td>236</td>\n",
       "      <td>97</td>\n",
       "      <td>45</td>\n",
       "      <td>3.828641</td>\n",
       "    </tr>\n",
       "    <tr>\n",
       "      <th>26</th>\n",
       "      <td>ID_7029</td>\n",
       "      <td>Noida</td>\n",
       "      <td>North Indian, Chinese</td>\n",
       "      <td>100</td>\n",
       "      <td>99</td>\n",
       "      <td>3.70</td>\n",
       "      <td>110</td>\n",
       "      <td>38</td>\n",
       "      <td>45</td>\n",
       "      <td>3.828641</td>\n",
       "    </tr>\n",
       "    <tr>\n",
       "      <th>27</th>\n",
       "      <td>ID_6769</td>\n",
       "      <td>Mumbai</td>\n",
       "      <td>Fast Food, South Indian, Street Food</td>\n",
       "      <td>150</td>\n",
       "      <td>50</td>\n",
       "      <td>3.20</td>\n",
       "      <td>15</td>\n",
       "      <td>9</td>\n",
       "      <td>45</td>\n",
       "      <td>3.828641</td>\n",
       "    </tr>\n",
       "    <tr>\n",
       "      <th>28</th>\n",
       "      <td>ID_5547</td>\n",
       "      <td>Mumbai</td>\n",
       "      <td>North Indian</td>\n",
       "      <td>150</td>\n",
       "      <td>50</td>\n",
       "      <td>3.30</td>\n",
       "      <td>44</td>\n",
       "      <td>19</td>\n",
       "      <td>45</td>\n",
       "      <td>3.828641</td>\n",
       "    </tr>\n",
       "    <tr>\n",
       "      <th>29</th>\n",
       "      <td>ID_1957</td>\n",
       "      <td>Noida</td>\n",
       "      <td>North Indian, Chinese</td>\n",
       "      <td>200</td>\n",
       "      <td>50</td>\n",
       "      <td>3.80</td>\n",
       "      <td>18</td>\n",
       "      <td>18</td>\n",
       "      <td>30</td>\n",
       "      <td>3.433987</td>\n",
       "    </tr>\n",
       "    <tr>\n",
       "      <th>...</th>\n",
       "      <td>...</td>\n",
       "      <td>...</td>\n",
       "      <td>...</td>\n",
       "      <td>...</td>\n",
       "      <td>...</td>\n",
       "      <td>...</td>\n",
       "      <td>...</td>\n",
       "      <td>...</td>\n",
       "      <td>...</td>\n",
       "      <td>...</td>\n",
       "    </tr>\n",
       "    <tr>\n",
       "      <th>11064</th>\n",
       "      <td>ID_7873</td>\n",
       "      <td>Delhi</td>\n",
       "      <td>North Indian, Mughlai</td>\n",
       "      <td>200</td>\n",
       "      <td>50</td>\n",
       "      <td>4.50</td>\n",
       "      <td>1297</td>\n",
       "      <td>549</td>\n",
       "      <td>45</td>\n",
       "      <td>3.828641</td>\n",
       "    </tr>\n",
       "    <tr>\n",
       "      <th>11065</th>\n",
       "      <td>ID_5538</td>\n",
       "      <td>Hyderabad</td>\n",
       "      <td>North Indian, Beverages</td>\n",
       "      <td>100</td>\n",
       "      <td>50</td>\n",
       "      <td>2.80</td>\n",
       "      <td>4</td>\n",
       "      <td>3</td>\n",
       "      <td>30</td>\n",
       "      <td>3.433987</td>\n",
       "    </tr>\n",
       "    <tr>\n",
       "      <th>11066</th>\n",
       "      <td>ID_7358</td>\n",
       "      <td>Delhi</td>\n",
       "      <td>North Indian, Chinese</td>\n",
       "      <td>100</td>\n",
       "      <td>50</td>\n",
       "      <td>2.70</td>\n",
       "      <td>4</td>\n",
       "      <td>1</td>\n",
       "      <td>30</td>\n",
       "      <td>3.433987</td>\n",
       "    </tr>\n",
       "    <tr>\n",
       "      <th>11067</th>\n",
       "      <td>ID_3388</td>\n",
       "      <td>Hyderabad</td>\n",
       "      <td>South Indian, North Indian, Chinese</td>\n",
       "      <td>350</td>\n",
       "      <td>50</td>\n",
       "      <td>3.40</td>\n",
       "      <td>18</td>\n",
       "      <td>4</td>\n",
       "      <td>30</td>\n",
       "      <td>3.433987</td>\n",
       "    </tr>\n",
       "    <tr>\n",
       "      <th>11068</th>\n",
       "      <td>ID_8063</td>\n",
       "      <td>Delhi</td>\n",
       "      <td>Fast Food</td>\n",
       "      <td>100</td>\n",
       "      <td>50</td>\n",
       "      <td>2.80</td>\n",
       "      <td>8</td>\n",
       "      <td>3</td>\n",
       "      <td>30</td>\n",
       "      <td>3.433987</td>\n",
       "    </tr>\n",
       "    <tr>\n",
       "      <th>11069</th>\n",
       "      <td>ID_2116</td>\n",
       "      <td>Delhi</td>\n",
       "      <td>North Indian, Chinese</td>\n",
       "      <td>300</td>\n",
       "      <td>50</td>\n",
       "      <td>3.40</td>\n",
       "      <td>13</td>\n",
       "      <td>4</td>\n",
       "      <td>65</td>\n",
       "      <td>4.189655</td>\n",
       "    </tr>\n",
       "    <tr>\n",
       "      <th>11070</th>\n",
       "      <td>ID_2261</td>\n",
       "      <td>Noida</td>\n",
       "      <td>North Indian, Chinese</td>\n",
       "      <td>200</td>\n",
       "      <td>0</td>\n",
       "      <td>3.70</td>\n",
       "      <td>260</td>\n",
       "      <td>77</td>\n",
       "      <td>65</td>\n",
       "      <td>4.189655</td>\n",
       "    </tr>\n",
       "    <tr>\n",
       "      <th>11071</th>\n",
       "      <td>ID_3344</td>\n",
       "      <td>Bangalore</td>\n",
       "      <td>North Indian, Chinese</td>\n",
       "      <td>200</td>\n",
       "      <td>50</td>\n",
       "      <td>3.60</td>\n",
       "      <td>24</td>\n",
       "      <td>3</td>\n",
       "      <td>30</td>\n",
       "      <td>3.433987</td>\n",
       "    </tr>\n",
       "    <tr>\n",
       "      <th>11072</th>\n",
       "      <td>ID_46</td>\n",
       "      <td>Delhi</td>\n",
       "      <td>Fast Food, Rolls</td>\n",
       "      <td>100</td>\n",
       "      <td>50</td>\n",
       "      <td>3.80</td>\n",
       "      <td>80</td>\n",
       "      <td>38</td>\n",
       "      <td>30</td>\n",
       "      <td>3.433987</td>\n",
       "    </tr>\n",
       "    <tr>\n",
       "      <th>11073</th>\n",
       "      <td>ID_6038</td>\n",
       "      <td>Pune</td>\n",
       "      <td>North Indian, Mughlai, Kebab, Chinese</td>\n",
       "      <td>300</td>\n",
       "      <td>50</td>\n",
       "      <td>3.80</td>\n",
       "      <td>689</td>\n",
       "      <td>341</td>\n",
       "      <td>45</td>\n",
       "      <td>3.828641</td>\n",
       "    </tr>\n",
       "    <tr>\n",
       "      <th>11074</th>\n",
       "      <td>ID_5777</td>\n",
       "      <td>Hyderabad</td>\n",
       "      <td>South Indian</td>\n",
       "      <td>100</td>\n",
       "      <td>50</td>\n",
       "      <td>3.00</td>\n",
       "      <td>6</td>\n",
       "      <td>1</td>\n",
       "      <td>30</td>\n",
       "      <td>3.433987</td>\n",
       "    </tr>\n",
       "    <tr>\n",
       "      <th>11075</th>\n",
       "      <td>ID_8576</td>\n",
       "      <td>Bangalore</td>\n",
       "      <td>Beverages, Juices</td>\n",
       "      <td>100</td>\n",
       "      <td>50</td>\n",
       "      <td>3.20</td>\n",
       "      <td>6</td>\n",
       "      <td>4</td>\n",
       "      <td>30</td>\n",
       "      <td>3.433987</td>\n",
       "    </tr>\n",
       "    <tr>\n",
       "      <th>11076</th>\n",
       "      <td>ID_1795</td>\n",
       "      <td>Noida</td>\n",
       "      <td>North Indian, Mughlai</td>\n",
       "      <td>350</td>\n",
       "      <td>50</td>\n",
       "      <td>3.40</td>\n",
       "      <td>132</td>\n",
       "      <td>47</td>\n",
       "      <td>45</td>\n",
       "      <td>3.828641</td>\n",
       "    </tr>\n",
       "    <tr>\n",
       "      <th>11077</th>\n",
       "      <td>ID_4036</td>\n",
       "      <td>Noida</td>\n",
       "      <td>Beverages, Tea, Coffee, North Indian</td>\n",
       "      <td>100</td>\n",
       "      <td>50</td>\n",
       "      <td>3.20</td>\n",
       "      <td>7</td>\n",
       "      <td>3</td>\n",
       "      <td>30</td>\n",
       "      <td>3.433987</td>\n",
       "    </tr>\n",
       "    <tr>\n",
       "      <th>11078</th>\n",
       "      <td>ID_6806</td>\n",
       "      <td>Kolkata</td>\n",
       "      <td>Rajasthani, Fast Food, Mishti</td>\n",
       "      <td>100</td>\n",
       "      <td>50</td>\n",
       "      <td>3.40</td>\n",
       "      <td>163</td>\n",
       "      <td>24</td>\n",
       "      <td>30</td>\n",
       "      <td>3.433987</td>\n",
       "    </tr>\n",
       "    <tr>\n",
       "      <th>11079</th>\n",
       "      <td>ID_6720</td>\n",
       "      <td>Delhi</td>\n",
       "      <td>North Indian</td>\n",
       "      <td>100</td>\n",
       "      <td>50</td>\n",
       "      <td>3.60</td>\n",
       "      <td>57</td>\n",
       "      <td>12</td>\n",
       "      <td>30</td>\n",
       "      <td>3.433987</td>\n",
       "    </tr>\n",
       "    <tr>\n",
       "      <th>11080</th>\n",
       "      <td>ID_646</td>\n",
       "      <td>Noida</td>\n",
       "      <td>Chinese, Seafood, Asian, North Indian</td>\n",
       "      <td>650</td>\n",
       "      <td>50</td>\n",
       "      <td>4.00</td>\n",
       "      <td>715</td>\n",
       "      <td>422</td>\n",
       "      <td>65</td>\n",
       "      <td>4.189655</td>\n",
       "    </tr>\n",
       "    <tr>\n",
       "      <th>11081</th>\n",
       "      <td>ID_5239</td>\n",
       "      <td>Delhi</td>\n",
       "      <td>Fast Food, Desserts</td>\n",
       "      <td>150</td>\n",
       "      <td>50</td>\n",
       "      <td>3.60</td>\n",
       "      <td>38</td>\n",
       "      <td>21</td>\n",
       "      <td>30</td>\n",
       "      <td>3.433987</td>\n",
       "    </tr>\n",
       "    <tr>\n",
       "      <th>11082</th>\n",
       "      <td>ID_1434</td>\n",
       "      <td>Gurgoan</td>\n",
       "      <td>North Indian, Chinese, Mughlai</td>\n",
       "      <td>200</td>\n",
       "      <td>50</td>\n",
       "      <td>2.98</td>\n",
       "      <td>236</td>\n",
       "      <td>97</td>\n",
       "      <td>120</td>\n",
       "      <td>4.795791</td>\n",
       "    </tr>\n",
       "    <tr>\n",
       "      <th>11083</th>\n",
       "      <td>ID_6048</td>\n",
       "      <td>Pune</td>\n",
       "      <td>Chinese, South Indian, Fast Food, North Indian</td>\n",
       "      <td>400</td>\n",
       "      <td>50</td>\n",
       "      <td>4.30</td>\n",
       "      <td>1741</td>\n",
       "      <td>736</td>\n",
       "      <td>30</td>\n",
       "      <td>3.433987</td>\n",
       "    </tr>\n",
       "    <tr>\n",
       "      <th>11084</th>\n",
       "      <td>ID_968</td>\n",
       "      <td>Delhi</td>\n",
       "      <td>North Indian, Asian</td>\n",
       "      <td>200</td>\n",
       "      <td>50</td>\n",
       "      <td>2.98</td>\n",
       "      <td>236</td>\n",
       "      <td>97</td>\n",
       "      <td>30</td>\n",
       "      <td>3.433987</td>\n",
       "    </tr>\n",
       "    <tr>\n",
       "      <th>11085</th>\n",
       "      <td>ID_2394</td>\n",
       "      <td>Bangalore</td>\n",
       "      <td>Street Food</td>\n",
       "      <td>100</td>\n",
       "      <td>50</td>\n",
       "      <td>2.98</td>\n",
       "      <td>236</td>\n",
       "      <td>97</td>\n",
       "      <td>30</td>\n",
       "      <td>3.433987</td>\n",
       "    </tr>\n",
       "    <tr>\n",
       "      <th>11086</th>\n",
       "      <td>ID_2050</td>\n",
       "      <td>Pune</td>\n",
       "      <td>North Indian, Fast Food</td>\n",
       "      <td>300</td>\n",
       "      <td>50</td>\n",
       "      <td>2.98</td>\n",
       "      <td>236</td>\n",
       "      <td>97</td>\n",
       "      <td>30</td>\n",
       "      <td>3.433987</td>\n",
       "    </tr>\n",
       "    <tr>\n",
       "      <th>11087</th>\n",
       "      <td>ID_1309</td>\n",
       "      <td>Mumbai</td>\n",
       "      <td>Chinese, Mughlai, North Indian</td>\n",
       "      <td>200</td>\n",
       "      <td>50</td>\n",
       "      <td>3.50</td>\n",
       "      <td>63</td>\n",
       "      <td>34</td>\n",
       "      <td>30</td>\n",
       "      <td>3.433987</td>\n",
       "    </tr>\n",
       "    <tr>\n",
       "      <th>11088</th>\n",
       "      <td>ID_944</td>\n",
       "      <td>Bangalore</td>\n",
       "      <td>North Indian, Chinese, Biryani</td>\n",
       "      <td>150</td>\n",
       "      <td>50</td>\n",
       "      <td>3.60</td>\n",
       "      <td>56</td>\n",
       "      <td>18</td>\n",
       "      <td>30</td>\n",
       "      <td>3.433987</td>\n",
       "    </tr>\n",
       "    <tr>\n",
       "      <th>11089</th>\n",
       "      <td>ID_8067</td>\n",
       "      <td>Bangalore</td>\n",
       "      <td>Tibetan, Chinese, Continental, Momos</td>\n",
       "      <td>250</td>\n",
       "      <td>50</td>\n",
       "      <td>4.20</td>\n",
       "      <td>326</td>\n",
       "      <td>189</td>\n",
       "      <td>30</td>\n",
       "      <td>3.433987</td>\n",
       "    </tr>\n",
       "    <tr>\n",
       "      <th>11090</th>\n",
       "      <td>ID_4620</td>\n",
       "      <td>Noida</td>\n",
       "      <td>Fast Food</td>\n",
       "      <td>100</td>\n",
       "      <td>50</td>\n",
       "      <td>3.60</td>\n",
       "      <td>36</td>\n",
       "      <td>16</td>\n",
       "      <td>30</td>\n",
       "      <td>3.433987</td>\n",
       "    </tr>\n",
       "    <tr>\n",
       "      <th>11091</th>\n",
       "      <td>ID_3392</td>\n",
       "      <td>Bangalore</td>\n",
       "      <td>South Indian, Chinese, North Indian</td>\n",
       "      <td>100</td>\n",
       "      <td>50</td>\n",
       "      <td>3.50</td>\n",
       "      <td>45</td>\n",
       "      <td>18</td>\n",
       "      <td>30</td>\n",
       "      <td>3.433987</td>\n",
       "    </tr>\n",
       "    <tr>\n",
       "      <th>11092</th>\n",
       "      <td>ID_4115</td>\n",
       "      <td>Bangalore</td>\n",
       "      <td>North Indian</td>\n",
       "      <td>100</td>\n",
       "      <td>50</td>\n",
       "      <td>3.10</td>\n",
       "      <td>24</td>\n",
       "      <td>9</td>\n",
       "      <td>30</td>\n",
       "      <td>3.433987</td>\n",
       "    </tr>\n",
       "    <tr>\n",
       "      <th>11093</th>\n",
       "      <td>ID_4417</td>\n",
       "      <td>Gurgoan</td>\n",
       "      <td>North Indian</td>\n",
       "      <td>100</td>\n",
       "      <td>50</td>\n",
       "      <td>2.98</td>\n",
       "      <td>236</td>\n",
       "      <td>97</td>\n",
       "      <td>30</td>\n",
       "      <td>3.433987</td>\n",
       "    </tr>\n",
       "  </tbody>\n",
       "</table>\n",
       "<p>11094 rows × 10 columns</p>\n",
       "</div>"
      ],
      "text/plain": [
       "      Restaurant   Location  \\\n",
       "0        ID_6321       Pune   \n",
       "1        ID_2882  Bangalore   \n",
       "2        ID_1595     Mumbai   \n",
       "3        ID_5929      Noida   \n",
       "4        ID_6123  Bangalore   \n",
       "5        ID_5221  Bangalore   \n",
       "6        ID_3777     Mumbai   \n",
       "7         ID_745      Delhi   \n",
       "8        ID_2970      Delhi   \n",
       "9        ID_3474      Noida   \n",
       "10       ID_5159     Mumbai   \n",
       "11       ID_1696     Mumbai   \n",
       "12       ID_1156      Noida   \n",
       "13        ID_354      Delhi   \n",
       "14       ID_6891      Delhi   \n",
       "15       ID_6406    Kolkata   \n",
       "16       ID_2141      Noida   \n",
       "17       ID_3355     Mumbai   \n",
       "18       ID_5262       Pune   \n",
       "19       ID_8148    Kolkata   \n",
       "20       ID_1681      Noida   \n",
       "21       ID_3994      Noida   \n",
       "22       ID_4012      Noida   \n",
       "23        ID_240      Noida   \n",
       "24       ID_4751  Bangalore   \n",
       "25       ID_4944  Bangalore   \n",
       "26       ID_7029      Noida   \n",
       "27       ID_6769     Mumbai   \n",
       "28       ID_5547     Mumbai   \n",
       "29       ID_1957      Noida   \n",
       "...          ...        ...   \n",
       "11064    ID_7873      Delhi   \n",
       "11065    ID_5538  Hyderabad   \n",
       "11066    ID_7358      Delhi   \n",
       "11067    ID_3388  Hyderabad   \n",
       "11068    ID_8063      Delhi   \n",
       "11069    ID_2116      Delhi   \n",
       "11070    ID_2261      Noida   \n",
       "11071    ID_3344  Bangalore   \n",
       "11072      ID_46      Delhi   \n",
       "11073    ID_6038       Pune   \n",
       "11074    ID_5777  Hyderabad   \n",
       "11075    ID_8576  Bangalore   \n",
       "11076    ID_1795      Noida   \n",
       "11077    ID_4036      Noida   \n",
       "11078    ID_6806    Kolkata   \n",
       "11079    ID_6720      Delhi   \n",
       "11080     ID_646      Noida   \n",
       "11081    ID_5239      Delhi   \n",
       "11082    ID_1434    Gurgoan   \n",
       "11083    ID_6048       Pune   \n",
       "11084     ID_968      Delhi   \n",
       "11085    ID_2394  Bangalore   \n",
       "11086    ID_2050       Pune   \n",
       "11087    ID_1309     Mumbai   \n",
       "11088     ID_944  Bangalore   \n",
       "11089    ID_8067  Bangalore   \n",
       "11090    ID_4620      Noida   \n",
       "11091    ID_3392  Bangalore   \n",
       "11092    ID_4115  Bangalore   \n",
       "11093    ID_4417    Gurgoan   \n",
       "\n",
       "                                                Cuisines  Average_Cost  \\\n",
       "0                 Fast Food, Rolls, Burger, Salad, Wraps           200   \n",
       "1                                    Ice Cream, Desserts           100   \n",
       "2                        Italian, Street Food, Fast Food           150   \n",
       "3                         Mughlai, North Indian, Chinese           250   \n",
       "4                                        Cafe, Beverages           200   \n",
       "5                    South Indian, North Indian, Chinese           150   \n",
       "6                                   Beverages, Fast Food           150   \n",
       "7                                   Chinese, Thai, Asian           650   \n",
       "8                                    Mithai, Street Food           100   \n",
       "9      Fast Food, North Indian, Rolls, Chinese, Momos...           200   \n",
       "10                        North Indian, Chinese, Mughlai           350   \n",
       "11                    Chinese, Thai, Indonesian, Italian           800   \n",
       "12                Burger, Fast Food, Desserts, Beverages           150   \n",
       "13                                             Beverages            50   \n",
       "14                                             Fast Food           100   \n",
       "15                                      Biryani, Mughlai           100   \n",
       "16                                               Italian           100   \n",
       "17        Chinese, North Indian, South Indian, Fast Food           200   \n",
       "18                                        Kerala, Bihari           150   \n",
       "19                                          South Indian           100   \n",
       "20                   Chinese, North Indian, Rolls, Momos           200   \n",
       "21                                   North Indian, Rolls           150   \n",
       "22                                 North Indian, Chinese           250   \n",
       "23                                 Biryani, North Indian           200   \n",
       "24                      North Indian, Chinese, Fast Food           150   \n",
       "25                                   Desserts, Ice Cream           100   \n",
       "26                                 North Indian, Chinese           100   \n",
       "27                  Fast Food, South Indian, Street Food           150   \n",
       "28                                          North Indian           150   \n",
       "29                                 North Indian, Chinese           200   \n",
       "...                                                  ...           ...   \n",
       "11064                              North Indian, Mughlai           200   \n",
       "11065                            North Indian, Beverages           100   \n",
       "11066                              North Indian, Chinese           100   \n",
       "11067                South Indian, North Indian, Chinese           350   \n",
       "11068                                          Fast Food           100   \n",
       "11069                              North Indian, Chinese           300   \n",
       "11070                              North Indian, Chinese           200   \n",
       "11071                              North Indian, Chinese           200   \n",
       "11072                                   Fast Food, Rolls           100   \n",
       "11073              North Indian, Mughlai, Kebab, Chinese           300   \n",
       "11074                                       South Indian           100   \n",
       "11075                                  Beverages, Juices           100   \n",
       "11076                              North Indian, Mughlai           350   \n",
       "11077               Beverages, Tea, Coffee, North Indian           100   \n",
       "11078                      Rajasthani, Fast Food, Mishti           100   \n",
       "11079                                       North Indian           100   \n",
       "11080              Chinese, Seafood, Asian, North Indian           650   \n",
       "11081                                Fast Food, Desserts           150   \n",
       "11082                     North Indian, Chinese, Mughlai           200   \n",
       "11083     Chinese, South Indian, Fast Food, North Indian           400   \n",
       "11084                                North Indian, Asian           200   \n",
       "11085                                        Street Food           100   \n",
       "11086                            North Indian, Fast Food           300   \n",
       "11087                     Chinese, Mughlai, North Indian           200   \n",
       "11088                     North Indian, Chinese, Biryani           150   \n",
       "11089               Tibetan, Chinese, Continental, Momos           250   \n",
       "11090                                          Fast Food           100   \n",
       "11091                South Indian, Chinese, North Indian           100   \n",
       "11092                                       North Indian           100   \n",
       "11093                                       North Indian           100   \n",
       "\n",
       "       Minimum_Order  Rating  Votes  Reviews  Delivery_Time  \\\n",
       "0                 50    3.50     12        4             30   \n",
       "1                 50    3.50     11        4             30   \n",
       "2                 50    3.60     99       30             65   \n",
       "3                 99    3.70    176       95             30   \n",
       "4                 99    3.20    521      235             65   \n",
       "5                 50    3.80     46       18             30   \n",
       "6                 50    3.70    108       31             30   \n",
       "7                 50    4.00   1731     1235             45   \n",
       "8                 50    3.90    110       26             30   \n",
       "9                 50    3.90    562      294             65   \n",
       "10                50    3.80    186       61             30   \n",
       "11                50    4.20   1693     1239             45   \n",
       "12                50    2.98    236       97             30   \n",
       "13                 0    3.80    184      128             45   \n",
       "14                50    3.50     23        5             30   \n",
       "15                50    3.60    353       53             30   \n",
       "16                50    2.98    236       97             30   \n",
       "17                50    3.70    139       47             30   \n",
       "18                50    2.98    236       97             30   \n",
       "19                50    3.70    159       46             30   \n",
       "20                99    2.80     67       23             45   \n",
       "21                50    3.90    387      160             45   \n",
       "22                50    3.00      5        2             30   \n",
       "23                99    3.70    138       26             65   \n",
       "24                50    3.20      4        1             30   \n",
       "25                50    2.98    236       97             45   \n",
       "26                99    3.70    110       38             45   \n",
       "27                50    3.20     15        9             45   \n",
       "28                50    3.30     44       19             45   \n",
       "29                50    3.80     18       18             30   \n",
       "...              ...     ...    ...      ...            ...   \n",
       "11064             50    4.50   1297      549             45   \n",
       "11065             50    2.80      4        3             30   \n",
       "11066             50    2.70      4        1             30   \n",
       "11067             50    3.40     18        4             30   \n",
       "11068             50    2.80      8        3             30   \n",
       "11069             50    3.40     13        4             65   \n",
       "11070              0    3.70    260       77             65   \n",
       "11071             50    3.60     24        3             30   \n",
       "11072             50    3.80     80       38             30   \n",
       "11073             50    3.80    689      341             45   \n",
       "11074             50    3.00      6        1             30   \n",
       "11075             50    3.20      6        4             30   \n",
       "11076             50    3.40    132       47             45   \n",
       "11077             50    3.20      7        3             30   \n",
       "11078             50    3.40    163       24             30   \n",
       "11079             50    3.60     57       12             30   \n",
       "11080             50    4.00    715      422             65   \n",
       "11081             50    3.60     38       21             30   \n",
       "11082             50    2.98    236       97            120   \n",
       "11083             50    4.30   1741      736             30   \n",
       "11084             50    2.98    236       97             30   \n",
       "11085             50    2.98    236       97             30   \n",
       "11086             50    2.98    236       97             30   \n",
       "11087             50    3.50     63       34             30   \n",
       "11088             50    3.60     56       18             30   \n",
       "11089             50    4.20    326      189             30   \n",
       "11090             50    3.60     36       16             30   \n",
       "11091             50    3.50     45       18             30   \n",
       "11092             50    3.10     24        9             30   \n",
       "11093             50    2.98    236       97             30   \n",
       "\n",
       "       log_delievery_time  \n",
       "0                3.433987  \n",
       "1                3.433987  \n",
       "2                4.189655  \n",
       "3                3.433987  \n",
       "4                4.189655  \n",
       "5                3.433987  \n",
       "6                3.433987  \n",
       "7                3.828641  \n",
       "8                3.433987  \n",
       "9                4.189655  \n",
       "10               3.433987  \n",
       "11               3.828641  \n",
       "12               3.433987  \n",
       "13               3.828641  \n",
       "14               3.433987  \n",
       "15               3.433987  \n",
       "16               3.433987  \n",
       "17               3.433987  \n",
       "18               3.433987  \n",
       "19               3.433987  \n",
       "20               3.828641  \n",
       "21               3.828641  \n",
       "22               3.433987  \n",
       "23               4.189655  \n",
       "24               3.433987  \n",
       "25               3.828641  \n",
       "26               3.828641  \n",
       "27               3.828641  \n",
       "28               3.828641  \n",
       "29               3.433987  \n",
       "...                   ...  \n",
       "11064            3.828641  \n",
       "11065            3.433987  \n",
       "11066            3.433987  \n",
       "11067            3.433987  \n",
       "11068            3.433987  \n",
       "11069            4.189655  \n",
       "11070            4.189655  \n",
       "11071            3.433987  \n",
       "11072            3.433987  \n",
       "11073            3.828641  \n",
       "11074            3.433987  \n",
       "11075            3.433987  \n",
       "11076            3.828641  \n",
       "11077            3.433987  \n",
       "11078            3.433987  \n",
       "11079            3.433987  \n",
       "11080            4.189655  \n",
       "11081            3.433987  \n",
       "11082            4.795791  \n",
       "11083            3.433987  \n",
       "11084            3.433987  \n",
       "11085            3.433987  \n",
       "11086            3.433987  \n",
       "11087            3.433987  \n",
       "11088            3.433987  \n",
       "11089            3.433987  \n",
       "11090            3.433987  \n",
       "11091            3.433987  \n",
       "11092            3.433987  \n",
       "11093            3.433987  \n",
       "\n",
       "[11094 rows x 10 columns]"
      ]
     },
     "execution_count": 39,
     "metadata": {},
     "output_type": "execute_result"
    }
   ],
   "source": [
    "data1"
   ]
  },
  {
   "cell_type": "code",
   "execution_count": 40,
   "metadata": {},
   "outputs": [
    {
     "data": {
      "text/html": [
       "<div>\n",
       "<style scoped>\n",
       "    .dataframe tbody tr th:only-of-type {\n",
       "        vertical-align: middle;\n",
       "    }\n",
       "\n",
       "    .dataframe tbody tr th {\n",
       "        vertical-align: top;\n",
       "    }\n",
       "\n",
       "    .dataframe thead th {\n",
       "        text-align: right;\n",
       "    }\n",
       "</style>\n",
       "<table border=\"1\" class=\"dataframe\">\n",
       "  <thead>\n",
       "    <tr style=\"text-align: right;\">\n",
       "      <th></th>\n",
       "      <th>Restaurant</th>\n",
       "      <th>Location</th>\n",
       "      <th>Cuisines</th>\n",
       "      <th>Average_Cost</th>\n",
       "      <th>Minimum_Order</th>\n",
       "      <th>Rating</th>\n",
       "      <th>Votes</th>\n",
       "      <th>Reviews</th>\n",
       "      <th>Delivery_Time</th>\n",
       "      <th>log_delievery_time</th>\n",
       "    </tr>\n",
       "  </thead>\n",
       "  <tbody>\n",
       "    <tr>\n",
       "      <th>0</th>\n",
       "      <td>ID_6321</td>\n",
       "      <td>Pune</td>\n",
       "      <td>Fast Food, Rolls, Burger, Salad, Wraps</td>\n",
       "      <td>200</td>\n",
       "      <td>50</td>\n",
       "      <td>3.5</td>\n",
       "      <td>12</td>\n",
       "      <td>4</td>\n",
       "      <td>30</td>\n",
       "      <td>3.433987</td>\n",
       "    </tr>\n",
       "    <tr>\n",
       "      <th>1</th>\n",
       "      <td>ID_2882</td>\n",
       "      <td>Bangalore</td>\n",
       "      <td>Ice Cream, Desserts</td>\n",
       "      <td>100</td>\n",
       "      <td>50</td>\n",
       "      <td>3.5</td>\n",
       "      <td>11</td>\n",
       "      <td>4</td>\n",
       "      <td>30</td>\n",
       "      <td>3.433987</td>\n",
       "    </tr>\n",
       "    <tr>\n",
       "      <th>2</th>\n",
       "      <td>ID_1595</td>\n",
       "      <td>Mumbai</td>\n",
       "      <td>Italian, Street Food, Fast Food</td>\n",
       "      <td>150</td>\n",
       "      <td>50</td>\n",
       "      <td>3.6</td>\n",
       "      <td>99</td>\n",
       "      <td>30</td>\n",
       "      <td>65</td>\n",
       "      <td>4.189655</td>\n",
       "    </tr>\n",
       "    <tr>\n",
       "      <th>3</th>\n",
       "      <td>ID_5929</td>\n",
       "      <td>Noida</td>\n",
       "      <td>Mughlai, North Indian, Chinese</td>\n",
       "      <td>250</td>\n",
       "      <td>99</td>\n",
       "      <td>3.7</td>\n",
       "      <td>176</td>\n",
       "      <td>95</td>\n",
       "      <td>30</td>\n",
       "      <td>3.433987</td>\n",
       "    </tr>\n",
       "  </tbody>\n",
       "</table>\n",
       "</div>"
      ],
      "text/plain": [
       "  Restaurant   Location                                Cuisines  Average_Cost  \\\n",
       "0    ID_6321       Pune  Fast Food, Rolls, Burger, Salad, Wraps           200   \n",
       "1    ID_2882  Bangalore                     Ice Cream, Desserts           100   \n",
       "2    ID_1595     Mumbai         Italian, Street Food, Fast Food           150   \n",
       "3    ID_5929      Noida          Mughlai, North Indian, Chinese           250   \n",
       "\n",
       "   Minimum_Order  Rating  Votes  Reviews  Delivery_Time  log_delievery_time  \n",
       "0             50     3.5     12        4             30            3.433987  \n",
       "1             50     3.5     11        4             30            3.433987  \n",
       "2             50     3.6     99       30             65            4.189655  \n",
       "3             99     3.7    176       95             30            3.433987  "
      ]
     },
     "execution_count": 40,
     "metadata": {},
     "output_type": "execute_result"
    }
   ],
   "source": [
    "data1.head(4)"
   ]
  },
  {
   "cell_type": "code",
   "execution_count": 41,
   "metadata": {},
   "outputs": [],
   "source": [
    "# from sklearn.model_selection import train_test_split \n",
    "# from sklearn.tree import DecisionTreeClassifier \n",
    "# from sklearn.metrics import accuracy_score \n",
    "# X=data1.loc[:,['Average_Cost','Minimum_Order','Votes','Reviews']]\n",
    "# Y=data1.loc[:,['Delivery_Time']]"
   ]
  },
  {
   "cell_type": "code",
   "execution_count": 42,
   "metadata": {},
   "outputs": [],
   "source": [
    "# X.shape"
   ]
  },
  {
   "cell_type": "code",
   "execution_count": 43,
   "metadata": {},
   "outputs": [],
   "source": [
    "# X_train, X_test, y_train, y_test = train_test_split( \n",
    "#            X,Y,test_size = 0.2, random_state = 100) \n",
    "  \n",
    "# dt_clf_gini = DecisionTreeClassifier(criterion = \"gini\", \n",
    "#                                      random_state = 100, \n",
    "#                                      max_depth = 5, \n",
    "#                                      min_samples_leaf = 5) \n",
    "  \n",
    "# dt_clf_gini.fit(X_train, y_train) \n",
    "# y_pred_gini = dt_clf_gini.predict(X_test) \n",
    "  \n",
    "# print (\"Desicion Tree using Gini Index\\nAccuracy is \", \n",
    "#              accuracy_score(y_test, y_pred_gini)*100 ) "
   ]
  },
  {
   "cell_type": "code",
   "execution_count": 44,
   "metadata": {},
   "outputs": [],
   "source": [
    "# from sklearn.model_selection import train_test_split \n",
    "# # from sklearn.tree import DecisionTreeClassifier \n",
    "# # from sklearn.metrics import accuracy_score \n",
    "# X1=data1.loc[:,['Average_Cost','Minimum_Order','Votes','Reviews']]\n",
    "# Y1=data1.loc[:,['Delivery_Time']]"
   ]
  },
  {
   "cell_type": "code",
   "execution_count": 45,
   "metadata": {},
   "outputs": [],
   "source": [
    "# from sklearn.feature_selection import SelectKBest\n",
    "# from sklearn.feature_selection import chi2"
   ]
  },
  {
   "cell_type": "code",
   "execution_count": 46,
   "metadata": {},
   "outputs": [],
   "source": [
    "# best_feat=SelectKBest(score_func=chi2,k=3)\n",
    "# fit=best_feat.fit(X1,Y1)"
   ]
  },
  {
   "cell_type": "code",
   "execution_count": 47,
   "metadata": {},
   "outputs": [],
   "source": [
    "# fea_scores"
   ]
  },
  {
   "cell_type": "code",
   "execution_count": 48,
   "metadata": {},
   "outputs": [],
   "source": [
    "# fea_scores=pd.concat([df_columns,df_scores],axis=1)\n",
    "# fea_scores.columns=['Specs','Scores']"
   ]
  },
  {
   "cell_type": "code",
   "execution_count": 49,
   "metadata": {},
   "outputs": [],
   "source": [
    "# fea_scores"
   ]
  },
  {
   "cell_type": "code",
   "execution_count": 50,
   "metadata": {},
   "outputs": [
    {
     "data": {
      "text/html": [
       "<div>\n",
       "<style scoped>\n",
       "    .dataframe tbody tr th:only-of-type {\n",
       "        vertical-align: middle;\n",
       "    }\n",
       "\n",
       "    .dataframe tbody tr th {\n",
       "        vertical-align: top;\n",
       "    }\n",
       "\n",
       "    .dataframe thead th {\n",
       "        text-align: right;\n",
       "    }\n",
       "</style>\n",
       "<table border=\"1\" class=\"dataframe\">\n",
       "  <thead>\n",
       "    <tr style=\"text-align: right;\">\n",
       "      <th></th>\n",
       "      <th>Restaurant</th>\n",
       "      <th>Location</th>\n",
       "      <th>Cuisines</th>\n",
       "      <th>Average_Cost</th>\n",
       "      <th>Minimum_Order</th>\n",
       "      <th>Rating</th>\n",
       "      <th>Votes</th>\n",
       "      <th>Reviews</th>\n",
       "      <th>Delivery_Time</th>\n",
       "      <th>log_delievery_time</th>\n",
       "    </tr>\n",
       "  </thead>\n",
       "  <tbody>\n",
       "    <tr>\n",
       "      <th>0</th>\n",
       "      <td>ID_6321</td>\n",
       "      <td>Pune</td>\n",
       "      <td>Fast Food, Rolls, Burger, Salad, Wraps</td>\n",
       "      <td>200</td>\n",
       "      <td>50</td>\n",
       "      <td>3.5</td>\n",
       "      <td>12</td>\n",
       "      <td>4</td>\n",
       "      <td>30</td>\n",
       "      <td>3.433987</td>\n",
       "    </tr>\n",
       "    <tr>\n",
       "      <th>1</th>\n",
       "      <td>ID_2882</td>\n",
       "      <td>Bangalore</td>\n",
       "      <td>Ice Cream, Desserts</td>\n",
       "      <td>100</td>\n",
       "      <td>50</td>\n",
       "      <td>3.5</td>\n",
       "      <td>11</td>\n",
       "      <td>4</td>\n",
       "      <td>30</td>\n",
       "      <td>3.433987</td>\n",
       "    </tr>\n",
       "    <tr>\n",
       "      <th>2</th>\n",
       "      <td>ID_1595</td>\n",
       "      <td>Mumbai</td>\n",
       "      <td>Italian, Street Food, Fast Food</td>\n",
       "      <td>150</td>\n",
       "      <td>50</td>\n",
       "      <td>3.6</td>\n",
       "      <td>99</td>\n",
       "      <td>30</td>\n",
       "      <td>65</td>\n",
       "      <td>4.189655</td>\n",
       "    </tr>\n",
       "    <tr>\n",
       "      <th>3</th>\n",
       "      <td>ID_5929</td>\n",
       "      <td>Noida</td>\n",
       "      <td>Mughlai, North Indian, Chinese</td>\n",
       "      <td>250</td>\n",
       "      <td>99</td>\n",
       "      <td>3.7</td>\n",
       "      <td>176</td>\n",
       "      <td>95</td>\n",
       "      <td>30</td>\n",
       "      <td>3.433987</td>\n",
       "    </tr>\n",
       "    <tr>\n",
       "      <th>4</th>\n",
       "      <td>ID_6123</td>\n",
       "      <td>Bangalore</td>\n",
       "      <td>Cafe, Beverages</td>\n",
       "      <td>200</td>\n",
       "      <td>99</td>\n",
       "      <td>3.2</td>\n",
       "      <td>521</td>\n",
       "      <td>235</td>\n",
       "      <td>65</td>\n",
       "      <td>4.189655</td>\n",
       "    </tr>\n",
       "  </tbody>\n",
       "</table>\n",
       "</div>"
      ],
      "text/plain": [
       "  Restaurant   Location                                Cuisines  Average_Cost  \\\n",
       "0    ID_6321       Pune  Fast Food, Rolls, Burger, Salad, Wraps           200   \n",
       "1    ID_2882  Bangalore                     Ice Cream, Desserts           100   \n",
       "2    ID_1595     Mumbai         Italian, Street Food, Fast Food           150   \n",
       "3    ID_5929      Noida          Mughlai, North Indian, Chinese           250   \n",
       "4    ID_6123  Bangalore                         Cafe, Beverages           200   \n",
       "\n",
       "   Minimum_Order  Rating  Votes  Reviews  Delivery_Time  log_delievery_time  \n",
       "0             50     3.5     12        4             30            3.433987  \n",
       "1             50     3.5     11        4             30            3.433987  \n",
       "2             50     3.6     99       30             65            4.189655  \n",
       "3             99     3.7    176       95             30            3.433987  \n",
       "4             99     3.2    521      235             65            4.189655  "
      ]
     },
     "execution_count": 50,
     "metadata": {},
     "output_type": "execute_result"
    }
   ],
   "source": [
    "data1.head(5)"
   ]
  },
  {
   "cell_type": "code",
   "execution_count": 51,
   "metadata": {},
   "outputs": [],
   "source": [
    "Cui=[]\n",
    "for i in data1.Cuisines:\n",
    "    a=i.split(',')\n",
    "    count=len(a)\n",
    "    Cui.append(count)"
   ]
  },
  {
   "cell_type": "code",
   "execution_count": 52,
   "metadata": {},
   "outputs": [],
   "source": [
    "data1['Cuisines']=pd.DataFrame(Cui)"
   ]
  },
  {
   "cell_type": "code",
   "execution_count": 53,
   "metadata": {},
   "outputs": [
    {
     "data": {
      "text/html": [
       "<div>\n",
       "<style scoped>\n",
       "    .dataframe tbody tr th:only-of-type {\n",
       "        vertical-align: middle;\n",
       "    }\n",
       "\n",
       "    .dataframe tbody tr th {\n",
       "        vertical-align: top;\n",
       "    }\n",
       "\n",
       "    .dataframe thead th {\n",
       "        text-align: right;\n",
       "    }\n",
       "</style>\n",
       "<table border=\"1\" class=\"dataframe\">\n",
       "  <thead>\n",
       "    <tr style=\"text-align: right;\">\n",
       "      <th></th>\n",
       "      <th>Restaurant</th>\n",
       "      <th>Location</th>\n",
       "      <th>Cuisines</th>\n",
       "      <th>Average_Cost</th>\n",
       "      <th>Minimum_Order</th>\n",
       "      <th>Rating</th>\n",
       "      <th>Votes</th>\n",
       "      <th>Reviews</th>\n",
       "      <th>Delivery_Time</th>\n",
       "      <th>log_delievery_time</th>\n",
       "    </tr>\n",
       "  </thead>\n",
       "  <tbody>\n",
       "    <tr>\n",
       "      <th>0</th>\n",
       "      <td>ID_6321</td>\n",
       "      <td>Pune</td>\n",
       "      <td>5</td>\n",
       "      <td>200</td>\n",
       "      <td>50</td>\n",
       "      <td>3.5</td>\n",
       "      <td>12</td>\n",
       "      <td>4</td>\n",
       "      <td>30</td>\n",
       "      <td>3.433987</td>\n",
       "    </tr>\n",
       "    <tr>\n",
       "      <th>1</th>\n",
       "      <td>ID_2882</td>\n",
       "      <td>Bangalore</td>\n",
       "      <td>2</td>\n",
       "      <td>100</td>\n",
       "      <td>50</td>\n",
       "      <td>3.5</td>\n",
       "      <td>11</td>\n",
       "      <td>4</td>\n",
       "      <td>30</td>\n",
       "      <td>3.433987</td>\n",
       "    </tr>\n",
       "    <tr>\n",
       "      <th>2</th>\n",
       "      <td>ID_1595</td>\n",
       "      <td>Mumbai</td>\n",
       "      <td>3</td>\n",
       "      <td>150</td>\n",
       "      <td>50</td>\n",
       "      <td>3.6</td>\n",
       "      <td>99</td>\n",
       "      <td>30</td>\n",
       "      <td>65</td>\n",
       "      <td>4.189655</td>\n",
       "    </tr>\n",
       "    <tr>\n",
       "      <th>3</th>\n",
       "      <td>ID_5929</td>\n",
       "      <td>Noida</td>\n",
       "      <td>3</td>\n",
       "      <td>250</td>\n",
       "      <td>99</td>\n",
       "      <td>3.7</td>\n",
       "      <td>176</td>\n",
       "      <td>95</td>\n",
       "      <td>30</td>\n",
       "      <td>3.433987</td>\n",
       "    </tr>\n",
       "    <tr>\n",
       "      <th>4</th>\n",
       "      <td>ID_6123</td>\n",
       "      <td>Bangalore</td>\n",
       "      <td>2</td>\n",
       "      <td>200</td>\n",
       "      <td>99</td>\n",
       "      <td>3.2</td>\n",
       "      <td>521</td>\n",
       "      <td>235</td>\n",
       "      <td>65</td>\n",
       "      <td>4.189655</td>\n",
       "    </tr>\n",
       "  </tbody>\n",
       "</table>\n",
       "</div>"
      ],
      "text/plain": [
       "  Restaurant   Location  Cuisines  Average_Cost  Minimum_Order  Rating  Votes  \\\n",
       "0    ID_6321       Pune         5           200             50     3.5     12   \n",
       "1    ID_2882  Bangalore         2           100             50     3.5     11   \n",
       "2    ID_1595     Mumbai         3           150             50     3.6     99   \n",
       "3    ID_5929      Noida         3           250             99     3.7    176   \n",
       "4    ID_6123  Bangalore         2           200             99     3.2    521   \n",
       "\n",
       "   Reviews  Delivery_Time  log_delievery_time  \n",
       "0        4             30            3.433987  \n",
       "1        4             30            3.433987  \n",
       "2       30             65            4.189655  \n",
       "3       95             30            3.433987  \n",
       "4      235             65            4.189655  "
      ]
     },
     "execution_count": 53,
     "metadata": {},
     "output_type": "execute_result"
    }
   ],
   "source": [
    "data1.head()"
   ]
  },
  {
   "cell_type": "code",
   "execution_count": 54,
   "metadata": {},
   "outputs": [],
   "source": [
    "# data1_map = data1.Restaurant.value_counts().to_dict()"
   ]
  },
  {
   "cell_type": "code",
   "execution_count": 55,
   "metadata": {},
   "outputs": [],
   "source": [
    "# data1.Restaurant = data1.Restaurant.map(data1_map)"
   ]
  },
  {
   "cell_type": "code",
   "execution_count": 56,
   "metadata": {},
   "outputs": [],
   "source": [
    "data1=data1.drop(['log_delievery_time'], axis=1)"
   ]
  },
  {
   "cell_type": "code",
   "execution_count": 57,
   "metadata": {},
   "outputs": [
    {
     "data": {
      "text/html": [
       "<div>\n",
       "<style scoped>\n",
       "    .dataframe tbody tr th:only-of-type {\n",
       "        vertical-align: middle;\n",
       "    }\n",
       "\n",
       "    .dataframe tbody tr th {\n",
       "        vertical-align: top;\n",
       "    }\n",
       "\n",
       "    .dataframe thead th {\n",
       "        text-align: right;\n",
       "    }\n",
       "</style>\n",
       "<table border=\"1\" class=\"dataframe\">\n",
       "  <thead>\n",
       "    <tr style=\"text-align: right;\">\n",
       "      <th></th>\n",
       "      <th>Restaurant</th>\n",
       "      <th>Location</th>\n",
       "      <th>Cuisines</th>\n",
       "      <th>Average_Cost</th>\n",
       "      <th>Minimum_Order</th>\n",
       "      <th>Rating</th>\n",
       "      <th>Votes</th>\n",
       "      <th>Reviews</th>\n",
       "      <th>Delivery_Time</th>\n",
       "    </tr>\n",
       "  </thead>\n",
       "  <tbody>\n",
       "    <tr>\n",
       "      <th>0</th>\n",
       "      <td>ID_6321</td>\n",
       "      <td>Pune</td>\n",
       "      <td>5</td>\n",
       "      <td>200</td>\n",
       "      <td>50</td>\n",
       "      <td>3.5</td>\n",
       "      <td>12</td>\n",
       "      <td>4</td>\n",
       "      <td>30</td>\n",
       "    </tr>\n",
       "    <tr>\n",
       "      <th>1</th>\n",
       "      <td>ID_2882</td>\n",
       "      <td>Bangalore</td>\n",
       "      <td>2</td>\n",
       "      <td>100</td>\n",
       "      <td>50</td>\n",
       "      <td>3.5</td>\n",
       "      <td>11</td>\n",
       "      <td>4</td>\n",
       "      <td>30</td>\n",
       "    </tr>\n",
       "    <tr>\n",
       "      <th>2</th>\n",
       "      <td>ID_1595</td>\n",
       "      <td>Mumbai</td>\n",
       "      <td>3</td>\n",
       "      <td>150</td>\n",
       "      <td>50</td>\n",
       "      <td>3.6</td>\n",
       "      <td>99</td>\n",
       "      <td>30</td>\n",
       "      <td>65</td>\n",
       "    </tr>\n",
       "    <tr>\n",
       "      <th>3</th>\n",
       "      <td>ID_5929</td>\n",
       "      <td>Noida</td>\n",
       "      <td>3</td>\n",
       "      <td>250</td>\n",
       "      <td>99</td>\n",
       "      <td>3.7</td>\n",
       "      <td>176</td>\n",
       "      <td>95</td>\n",
       "      <td>30</td>\n",
       "    </tr>\n",
       "    <tr>\n",
       "      <th>4</th>\n",
       "      <td>ID_6123</td>\n",
       "      <td>Bangalore</td>\n",
       "      <td>2</td>\n",
       "      <td>200</td>\n",
       "      <td>99</td>\n",
       "      <td>3.2</td>\n",
       "      <td>521</td>\n",
       "      <td>235</td>\n",
       "      <td>65</td>\n",
       "    </tr>\n",
       "  </tbody>\n",
       "</table>\n",
       "</div>"
      ],
      "text/plain": [
       "  Restaurant   Location  Cuisines  Average_Cost  Minimum_Order  Rating  Votes  \\\n",
       "0    ID_6321       Pune         5           200             50     3.5     12   \n",
       "1    ID_2882  Bangalore         2           100             50     3.5     11   \n",
       "2    ID_1595     Mumbai         3           150             50     3.6     99   \n",
       "3    ID_5929      Noida         3           250             99     3.7    176   \n",
       "4    ID_6123  Bangalore         2           200             99     3.2    521   \n",
       "\n",
       "   Reviews  Delivery_Time  \n",
       "0        4             30  \n",
       "1        4             30  \n",
       "2       30             65  \n",
       "3       95             30  \n",
       "4      235             65  "
      ]
     },
     "execution_count": 57,
     "metadata": {},
     "output_type": "execute_result"
    }
   ],
   "source": [
    "data1.head(5)"
   ]
  },
  {
   "cell_type": "code",
   "execution_count": 58,
   "metadata": {},
   "outputs": [],
   "source": [
    "Cui=[]\n",
    "for i in data2.Cuisines:\n",
    "    a=i.split(',')\n",
    "    count=len(a)\n",
    "    Cui.append(count)"
   ]
  },
  {
   "cell_type": "code",
   "execution_count": 59,
   "metadata": {},
   "outputs": [],
   "source": [
    "data2['Cuisines']=pd.DataFrame(Cui)"
   ]
  },
  {
   "cell_type": "code",
   "execution_count": 60,
   "metadata": {},
   "outputs": [
    {
     "data": {
      "text/html": [
       "<div>\n",
       "<style scoped>\n",
       "    .dataframe tbody tr th:only-of-type {\n",
       "        vertical-align: middle;\n",
       "    }\n",
       "\n",
       "    .dataframe tbody tr th {\n",
       "        vertical-align: top;\n",
       "    }\n",
       "\n",
       "    .dataframe thead th {\n",
       "        text-align: right;\n",
       "    }\n",
       "</style>\n",
       "<table border=\"1\" class=\"dataframe\">\n",
       "  <thead>\n",
       "    <tr style=\"text-align: right;\">\n",
       "      <th></th>\n",
       "      <th>Restaurant</th>\n",
       "      <th>Location</th>\n",
       "      <th>Cuisines</th>\n",
       "      <th>Average_Cost</th>\n",
       "      <th>Minimum_Order</th>\n",
       "      <th>Rating</th>\n",
       "      <th>Votes</th>\n",
       "      <th>Reviews</th>\n",
       "    </tr>\n",
       "  </thead>\n",
       "  <tbody>\n",
       "    <tr>\n",
       "      <th>0</th>\n",
       "      <td>ID_2842</td>\n",
       "      <td>Mico Layout, Stage 2, BTM Layout,Bangalore</td>\n",
       "      <td>3</td>\n",
       "      <td>350</td>\n",
       "      <td>50</td>\n",
       "      <td>4.20</td>\n",
       "      <td>361</td>\n",
       "      <td>225</td>\n",
       "    </tr>\n",
       "    <tr>\n",
       "      <th>1</th>\n",
       "      <td>ID_730</td>\n",
       "      <td>Mico Layout, Stage 2, BTM Layout,Bangalore</td>\n",
       "      <td>2</td>\n",
       "      <td>100</td>\n",
       "      <td>50</td>\n",
       "      <td>2.95</td>\n",
       "      <td>182</td>\n",
       "      <td>87</td>\n",
       "    </tr>\n",
       "    <tr>\n",
       "      <th>2</th>\n",
       "      <td>ID_4620</td>\n",
       "      <td>Sector 1, Noida</td>\n",
       "      <td>1</td>\n",
       "      <td>100</td>\n",
       "      <td>50</td>\n",
       "      <td>3.60</td>\n",
       "      <td>36</td>\n",
       "      <td>16</td>\n",
       "    </tr>\n",
       "    <tr>\n",
       "      <th>3</th>\n",
       "      <td>ID_5470</td>\n",
       "      <td>Babarpur, New Delhi, Delhi</td>\n",
       "      <td>5</td>\n",
       "      <td>200</td>\n",
       "      <td>50</td>\n",
       "      <td>3.60</td>\n",
       "      <td>66</td>\n",
       "      <td>33</td>\n",
       "    </tr>\n",
       "    <tr>\n",
       "      <th>4</th>\n",
       "      <td>ID_3249</td>\n",
       "      <td>Sector 1, Noida</td>\n",
       "      <td>2</td>\n",
       "      <td>150</td>\n",
       "      <td>50</td>\n",
       "      <td>2.90</td>\n",
       "      <td>38</td>\n",
       "      <td>14</td>\n",
       "    </tr>\n",
       "  </tbody>\n",
       "</table>\n",
       "</div>"
      ],
      "text/plain": [
       "  Restaurant                                    Location  Cuisines  \\\n",
       "0    ID_2842  Mico Layout, Stage 2, BTM Layout,Bangalore         3   \n",
       "1     ID_730  Mico Layout, Stage 2, BTM Layout,Bangalore         2   \n",
       "2    ID_4620                             Sector 1, Noida         1   \n",
       "3    ID_5470                  Babarpur, New Delhi, Delhi         5   \n",
       "4    ID_3249                             Sector 1, Noida         2   \n",
       "\n",
       "   Average_Cost  Minimum_Order  Rating  Votes  Reviews  \n",
       "0           350             50    4.20    361      225  \n",
       "1           100             50    2.95    182       87  \n",
       "2           100             50    3.60     36       16  \n",
       "3           200             50    3.60     66       33  \n",
       "4           150             50    2.90     38       14  "
      ]
     },
     "execution_count": 60,
     "metadata": {},
     "output_type": "execute_result"
    }
   ],
   "source": [
    "data2.head(5)"
   ]
  },
  {
   "cell_type": "code",
   "execution_count": 61,
   "metadata": {},
   "outputs": [
    {
     "data": {
      "text/plain": [
       "Cuisines         0.124872\n",
       "Average_Cost     0.175236\n",
       "Minimum_Order    0.254186\n",
       "Rating           0.218392\n",
       "Votes            0.189209\n",
       "Reviews          0.169082\n",
       "Delivery_Time    1.000000\n",
       "Name: Delivery_Time, dtype: float64"
      ]
     },
     "execution_count": 61,
     "metadata": {},
     "output_type": "execute_result"
    }
   ],
   "source": [
    "data1[data1.columns[::]].corr()['Delivery_Time'][:]"
   ]
  },
  {
   "cell_type": "code",
   "execution_count": 62,
   "metadata": {},
   "outputs": [],
   "source": [
    "cities2={'Pune':['FTI College, Law College Road, Pune','Pune University','MG Road, Pune','Nathan Road, Mangaldas Road, Pune']\n",
    "        ,'Noida':['Sector 1, Noida','D-Block, Sector 63, Noida','Sector 14, Noida']\n",
    "        ,'Kolkata':['Moulali, Kolkata','Gora Bazar, Rajbari, North Dumdum, Kolkata','Tiretti, Kolkata','Chandni Chowk, Kolkata','Raja Bazar, Kolkata']\n",
    "        ,'Bangalore':['Sector 3, Marathalli','Rmz Centennial, I Gate, Whitefield','Mico Layout, Stage 2, BTM Layout,Bangalore','Majestic','BTM Layout 1, Electronic City']\n",
    "        ,'Mumbai':['Mumbai Central','Yerawada, Pune, Maharashtra','Dockyard Road, Mumbai CST Area','Sandhurst Road, Mumbai CST Area','Tejas Nagar Colony, Wadala West, Mumbai']\n",
    "        ,'Hyderabad':['Hyderabad Public School, Begumpet','Chatta Bazaar, Malakpet, Hyderabad','Panjetan Colony, Malakpet, Hyderabad','Jaya Nagar, Saidabad, Hyderabad','Noorkhan Bazaar, Malakpet, Hyderabad','Musi Nagar, Malakpet, Hyderabad']\n",
    "        ,'Delhi':['Delhi University-GTB Nagar','Delhi Administration Flats, Timarpur','Delhi High Court, India Gate','Delhi Cantt.','Babarpur, New Delhi, Delhi']\n",
    "       ,'Gurgoan':['Laxman Vihar Industrial Area, Sector 3A, Gurgoan','Sector 63A,Gurgaon']}"
   ]
  },
  {
   "cell_type": "code",
   "execution_count": 63,
   "metadata": {},
   "outputs": [],
   "source": [
    "for k, v in cities2.items():\n",
    "     for i in v:\n",
    "         data2.loc[(data2.Location==i),'Location']=k"
   ]
  },
  {
   "cell_type": "code",
   "execution_count": 64,
   "metadata": {},
   "outputs": [
    {
     "data": {
      "text/html": [
       "<div>\n",
       "<style scoped>\n",
       "    .dataframe tbody tr th:only-of-type {\n",
       "        vertical-align: middle;\n",
       "    }\n",
       "\n",
       "    .dataframe tbody tr th {\n",
       "        vertical-align: top;\n",
       "    }\n",
       "\n",
       "    .dataframe thead th {\n",
       "        text-align: right;\n",
       "    }\n",
       "</style>\n",
       "<table border=\"1\" class=\"dataframe\">\n",
       "  <thead>\n",
       "    <tr style=\"text-align: right;\">\n",
       "      <th></th>\n",
       "      <th>Restaurant</th>\n",
       "      <th>Location</th>\n",
       "      <th>Cuisines</th>\n",
       "      <th>Average_Cost</th>\n",
       "      <th>Minimum_Order</th>\n",
       "      <th>Rating</th>\n",
       "      <th>Votes</th>\n",
       "      <th>Reviews</th>\n",
       "    </tr>\n",
       "  </thead>\n",
       "  <tbody>\n",
       "    <tr>\n",
       "      <th>0</th>\n",
       "      <td>ID_2842</td>\n",
       "      <td>Bangalore</td>\n",
       "      <td>3</td>\n",
       "      <td>350</td>\n",
       "      <td>50</td>\n",
       "      <td>4.20</td>\n",
       "      <td>361</td>\n",
       "      <td>225</td>\n",
       "    </tr>\n",
       "    <tr>\n",
       "      <th>1</th>\n",
       "      <td>ID_730</td>\n",
       "      <td>Bangalore</td>\n",
       "      <td>2</td>\n",
       "      <td>100</td>\n",
       "      <td>50</td>\n",
       "      <td>2.95</td>\n",
       "      <td>182</td>\n",
       "      <td>87</td>\n",
       "    </tr>\n",
       "    <tr>\n",
       "      <th>2</th>\n",
       "      <td>ID_4620</td>\n",
       "      <td>Noida</td>\n",
       "      <td>1</td>\n",
       "      <td>100</td>\n",
       "      <td>50</td>\n",
       "      <td>3.60</td>\n",
       "      <td>36</td>\n",
       "      <td>16</td>\n",
       "    </tr>\n",
       "    <tr>\n",
       "      <th>3</th>\n",
       "      <td>ID_5470</td>\n",
       "      <td>Delhi</td>\n",
       "      <td>5</td>\n",
       "      <td>200</td>\n",
       "      <td>50</td>\n",
       "      <td>3.60</td>\n",
       "      <td>66</td>\n",
       "      <td>33</td>\n",
       "    </tr>\n",
       "    <tr>\n",
       "      <th>4</th>\n",
       "      <td>ID_3249</td>\n",
       "      <td>Noida</td>\n",
       "      <td>2</td>\n",
       "      <td>150</td>\n",
       "      <td>50</td>\n",
       "      <td>2.90</td>\n",
       "      <td>38</td>\n",
       "      <td>14</td>\n",
       "    </tr>\n",
       "  </tbody>\n",
       "</table>\n",
       "</div>"
      ],
      "text/plain": [
       "  Restaurant   Location  Cuisines  Average_Cost  Minimum_Order  Rating  Votes  \\\n",
       "0    ID_2842  Bangalore         3           350             50    4.20    361   \n",
       "1     ID_730  Bangalore         2           100             50    2.95    182   \n",
       "2    ID_4620      Noida         1           100             50    3.60     36   \n",
       "3    ID_5470      Delhi         5           200             50    3.60     66   \n",
       "4    ID_3249      Noida         2           150             50    2.90     38   \n",
       "\n",
       "   Reviews  \n",
       "0      225  \n",
       "1       87  \n",
       "2       16  \n",
       "3       33  \n",
       "4       14  "
      ]
     },
     "execution_count": 64,
     "metadata": {},
     "output_type": "execute_result"
    }
   ],
   "source": [
    "data2.head(5)"
   ]
  },
  {
   "cell_type": "code",
   "execution_count": 65,
   "metadata": {},
   "outputs": [
    {
     "data": {
      "text/plain": [
       "Restaurant       0\n",
       "Location         0\n",
       "Cuisines         0\n",
       "Average_Cost     0\n",
       "Minimum_Order    0\n",
       "Rating           0\n",
       "Votes            0\n",
       "Reviews          0\n",
       "Delivery_Time    0\n",
       "dtype: int64"
      ]
     },
     "execution_count": 65,
     "metadata": {},
     "output_type": "execute_result"
    }
   ],
   "source": [
    "data1.isna().sum()"
   ]
  },
  {
   "cell_type": "code",
   "execution_count": 66,
   "metadata": {},
   "outputs": [
    {
     "data": {
      "text/plain": [
       "Restaurant       0\n",
       "Location         0\n",
       "Cuisines         0\n",
       "Average_Cost     0\n",
       "Minimum_Order    0\n",
       "Rating           0\n",
       "Votes            0\n",
       "Reviews          0\n",
       "dtype: int64"
      ]
     },
     "execution_count": 66,
     "metadata": {},
     "output_type": "execute_result"
    }
   ],
   "source": [
    "data2.isna().sum()"
   ]
  },
  {
   "cell_type": "code",
   "execution_count": 67,
   "metadata": {},
   "outputs": [],
   "source": [
    "# from sklearn.preprocessing import LabelEncoder\n",
    "# le_color = LabelEncoder()\n",
    "# data1['Location'] = le_color.fit_transform(data1.Location)\n",
    "# data2['Location'] = le_color.fit_transform(data2.Location)"
   ]
  },
  {
   "cell_type": "code",
   "execution_count": 68,
   "metadata": {},
   "outputs": [
    {
     "data": {
      "text/html": [
       "<div>\n",
       "<style scoped>\n",
       "    .dataframe tbody tr th:only-of-type {\n",
       "        vertical-align: middle;\n",
       "    }\n",
       "\n",
       "    .dataframe tbody tr th {\n",
       "        vertical-align: top;\n",
       "    }\n",
       "\n",
       "    .dataframe thead th {\n",
       "        text-align: right;\n",
       "    }\n",
       "</style>\n",
       "<table border=\"1\" class=\"dataframe\">\n",
       "  <thead>\n",
       "    <tr style=\"text-align: right;\">\n",
       "      <th></th>\n",
       "      <th>Restaurant</th>\n",
       "      <th>Location</th>\n",
       "      <th>Cuisines</th>\n",
       "      <th>Average_Cost</th>\n",
       "      <th>Minimum_Order</th>\n",
       "      <th>Rating</th>\n",
       "      <th>Votes</th>\n",
       "      <th>Reviews</th>\n",
       "      <th>Delivery_Time</th>\n",
       "    </tr>\n",
       "  </thead>\n",
       "  <tbody>\n",
       "    <tr>\n",
       "      <th>0</th>\n",
       "      <td>ID_6321</td>\n",
       "      <td>Pune</td>\n",
       "      <td>5</td>\n",
       "      <td>200</td>\n",
       "      <td>50</td>\n",
       "      <td>3.5</td>\n",
       "      <td>12</td>\n",
       "      <td>4</td>\n",
       "      <td>30</td>\n",
       "    </tr>\n",
       "    <tr>\n",
       "      <th>1</th>\n",
       "      <td>ID_2882</td>\n",
       "      <td>Bangalore</td>\n",
       "      <td>2</td>\n",
       "      <td>100</td>\n",
       "      <td>50</td>\n",
       "      <td>3.5</td>\n",
       "      <td>11</td>\n",
       "      <td>4</td>\n",
       "      <td>30</td>\n",
       "    </tr>\n",
       "    <tr>\n",
       "      <th>2</th>\n",
       "      <td>ID_1595</td>\n",
       "      <td>Mumbai</td>\n",
       "      <td>3</td>\n",
       "      <td>150</td>\n",
       "      <td>50</td>\n",
       "      <td>3.6</td>\n",
       "      <td>99</td>\n",
       "      <td>30</td>\n",
       "      <td>65</td>\n",
       "    </tr>\n",
       "    <tr>\n",
       "      <th>3</th>\n",
       "      <td>ID_5929</td>\n",
       "      <td>Noida</td>\n",
       "      <td>3</td>\n",
       "      <td>250</td>\n",
       "      <td>99</td>\n",
       "      <td>3.7</td>\n",
       "      <td>176</td>\n",
       "      <td>95</td>\n",
       "      <td>30</td>\n",
       "    </tr>\n",
       "    <tr>\n",
       "      <th>4</th>\n",
       "      <td>ID_6123</td>\n",
       "      <td>Bangalore</td>\n",
       "      <td>2</td>\n",
       "      <td>200</td>\n",
       "      <td>99</td>\n",
       "      <td>3.2</td>\n",
       "      <td>521</td>\n",
       "      <td>235</td>\n",
       "      <td>65</td>\n",
       "    </tr>\n",
       "  </tbody>\n",
       "</table>\n",
       "</div>"
      ],
      "text/plain": [
       "  Restaurant   Location  Cuisines  Average_Cost  Minimum_Order  Rating  Votes  \\\n",
       "0    ID_6321       Pune         5           200             50     3.5     12   \n",
       "1    ID_2882  Bangalore         2           100             50     3.5     11   \n",
       "2    ID_1595     Mumbai         3           150             50     3.6     99   \n",
       "3    ID_5929      Noida         3           250             99     3.7    176   \n",
       "4    ID_6123  Bangalore         2           200             99     3.2    521   \n",
       "\n",
       "   Reviews  Delivery_Time  \n",
       "0        4             30  \n",
       "1        4             30  \n",
       "2       30             65  \n",
       "3       95             30  \n",
       "4      235             65  "
      ]
     },
     "execution_count": 68,
     "metadata": {},
     "output_type": "execute_result"
    }
   ],
   "source": [
    "data1.head(5)"
   ]
  },
  {
   "cell_type": "code",
   "execution_count": 69,
   "metadata": {},
   "outputs": [
    {
     "data": {
      "text/plain": [
       "9"
      ]
     },
     "execution_count": 69,
     "metadata": {},
     "output_type": "execute_result"
    }
   ],
   "source": [
    "(data1.shape[1])"
   ]
  },
  {
   "cell_type": "code",
   "execution_count": 70,
   "metadata": {},
   "outputs": [],
   "source": [
    "data1=pd.get_dummies(data1, columns=['Location'])"
   ]
  },
  {
   "cell_type": "code",
   "execution_count": 71,
   "metadata": {},
   "outputs": [
    {
     "data": {
      "text/html": [
       "<div>\n",
       "<style scoped>\n",
       "    .dataframe tbody tr th:only-of-type {\n",
       "        vertical-align: middle;\n",
       "    }\n",
       "\n",
       "    .dataframe tbody tr th {\n",
       "        vertical-align: top;\n",
       "    }\n",
       "\n",
       "    .dataframe thead th {\n",
       "        text-align: right;\n",
       "    }\n",
       "</style>\n",
       "<table border=\"1\" class=\"dataframe\">\n",
       "  <thead>\n",
       "    <tr style=\"text-align: right;\">\n",
       "      <th></th>\n",
       "      <th>Restaurant</th>\n",
       "      <th>Cuisines</th>\n",
       "      <th>Average_Cost</th>\n",
       "      <th>Minimum_Order</th>\n",
       "      <th>Rating</th>\n",
       "      <th>Votes</th>\n",
       "      <th>Reviews</th>\n",
       "      <th>Delivery_Time</th>\n",
       "      <th>Location_Bangalore</th>\n",
       "      <th>Location_Delhi</th>\n",
       "      <th>Location_Gurgoan</th>\n",
       "      <th>Location_Hyderabad</th>\n",
       "      <th>Location_Kolkata</th>\n",
       "      <th>Location_Mumbai</th>\n",
       "      <th>Location_Noida</th>\n",
       "      <th>Location_Pune</th>\n",
       "    </tr>\n",
       "  </thead>\n",
       "  <tbody>\n",
       "    <tr>\n",
       "      <th>0</th>\n",
       "      <td>ID_6321</td>\n",
       "      <td>5</td>\n",
       "      <td>200</td>\n",
       "      <td>50</td>\n",
       "      <td>3.5</td>\n",
       "      <td>12</td>\n",
       "      <td>4</td>\n",
       "      <td>30</td>\n",
       "      <td>0</td>\n",
       "      <td>0</td>\n",
       "      <td>0</td>\n",
       "      <td>0</td>\n",
       "      <td>0</td>\n",
       "      <td>0</td>\n",
       "      <td>0</td>\n",
       "      <td>1</td>\n",
       "    </tr>\n",
       "    <tr>\n",
       "      <th>1</th>\n",
       "      <td>ID_2882</td>\n",
       "      <td>2</td>\n",
       "      <td>100</td>\n",
       "      <td>50</td>\n",
       "      <td>3.5</td>\n",
       "      <td>11</td>\n",
       "      <td>4</td>\n",
       "      <td>30</td>\n",
       "      <td>1</td>\n",
       "      <td>0</td>\n",
       "      <td>0</td>\n",
       "      <td>0</td>\n",
       "      <td>0</td>\n",
       "      <td>0</td>\n",
       "      <td>0</td>\n",
       "      <td>0</td>\n",
       "    </tr>\n",
       "    <tr>\n",
       "      <th>2</th>\n",
       "      <td>ID_1595</td>\n",
       "      <td>3</td>\n",
       "      <td>150</td>\n",
       "      <td>50</td>\n",
       "      <td>3.6</td>\n",
       "      <td>99</td>\n",
       "      <td>30</td>\n",
       "      <td>65</td>\n",
       "      <td>0</td>\n",
       "      <td>0</td>\n",
       "      <td>0</td>\n",
       "      <td>0</td>\n",
       "      <td>0</td>\n",
       "      <td>1</td>\n",
       "      <td>0</td>\n",
       "      <td>0</td>\n",
       "    </tr>\n",
       "    <tr>\n",
       "      <th>3</th>\n",
       "      <td>ID_5929</td>\n",
       "      <td>3</td>\n",
       "      <td>250</td>\n",
       "      <td>99</td>\n",
       "      <td>3.7</td>\n",
       "      <td>176</td>\n",
       "      <td>95</td>\n",
       "      <td>30</td>\n",
       "      <td>0</td>\n",
       "      <td>0</td>\n",
       "      <td>0</td>\n",
       "      <td>0</td>\n",
       "      <td>0</td>\n",
       "      <td>0</td>\n",
       "      <td>1</td>\n",
       "      <td>0</td>\n",
       "    </tr>\n",
       "    <tr>\n",
       "      <th>4</th>\n",
       "      <td>ID_6123</td>\n",
       "      <td>2</td>\n",
       "      <td>200</td>\n",
       "      <td>99</td>\n",
       "      <td>3.2</td>\n",
       "      <td>521</td>\n",
       "      <td>235</td>\n",
       "      <td>65</td>\n",
       "      <td>1</td>\n",
       "      <td>0</td>\n",
       "      <td>0</td>\n",
       "      <td>0</td>\n",
       "      <td>0</td>\n",
       "      <td>0</td>\n",
       "      <td>0</td>\n",
       "      <td>0</td>\n",
       "    </tr>\n",
       "  </tbody>\n",
       "</table>\n",
       "</div>"
      ],
      "text/plain": [
       "  Restaurant  Cuisines  Average_Cost  Minimum_Order  Rating  Votes  Reviews  \\\n",
       "0    ID_6321         5           200             50     3.5     12        4   \n",
       "1    ID_2882         2           100             50     3.5     11        4   \n",
       "2    ID_1595         3           150             50     3.6     99       30   \n",
       "3    ID_5929         3           250             99     3.7    176       95   \n",
       "4    ID_6123         2           200             99     3.2    521      235   \n",
       "\n",
       "   Delivery_Time  Location_Bangalore  Location_Delhi  Location_Gurgoan  \\\n",
       "0             30                   0               0                 0   \n",
       "1             30                   1               0                 0   \n",
       "2             65                   0               0                 0   \n",
       "3             30                   0               0                 0   \n",
       "4             65                   1               0                 0   \n",
       "\n",
       "   Location_Hyderabad  Location_Kolkata  Location_Mumbai  Location_Noida  \\\n",
       "0                   0                 0                0               0   \n",
       "1                   0                 0                0               0   \n",
       "2                   0                 0                1               0   \n",
       "3                   0                 0                0               1   \n",
       "4                   0                 0                0               0   \n",
       "\n",
       "   Location_Pune  \n",
       "0              1  \n",
       "1              0  \n",
       "2              0  \n",
       "3              0  \n",
       "4              0  "
      ]
     },
     "execution_count": 71,
     "metadata": {},
     "output_type": "execute_result"
    }
   ],
   "source": [
    "data1.head(5)"
   ]
  },
  {
   "cell_type": "code",
   "execution_count": 72,
   "metadata": {},
   "outputs": [],
   "source": [
    "data2=pd.get_dummies(data2, columns=['Location'])"
   ]
  },
  {
   "cell_type": "code",
   "execution_count": 73,
   "metadata": {},
   "outputs": [
    {
     "data": {
      "text/html": [
       "<div>\n",
       "<style scoped>\n",
       "    .dataframe tbody tr th:only-of-type {\n",
       "        vertical-align: middle;\n",
       "    }\n",
       "\n",
       "    .dataframe tbody tr th {\n",
       "        vertical-align: top;\n",
       "    }\n",
       "\n",
       "    .dataframe thead th {\n",
       "        text-align: right;\n",
       "    }\n",
       "</style>\n",
       "<table border=\"1\" class=\"dataframe\">\n",
       "  <thead>\n",
       "    <tr style=\"text-align: right;\">\n",
       "      <th></th>\n",
       "      <th>Restaurant</th>\n",
       "      <th>Cuisines</th>\n",
       "      <th>Average_Cost</th>\n",
       "      <th>Minimum_Order</th>\n",
       "      <th>Rating</th>\n",
       "      <th>Votes</th>\n",
       "      <th>Reviews</th>\n",
       "      <th>Location_Bangalore</th>\n",
       "      <th>Location_Delhi</th>\n",
       "      <th>Location_Gurgoan</th>\n",
       "      <th>Location_Hyderabad</th>\n",
       "      <th>Location_Kolkata</th>\n",
       "      <th>Location_Mumbai</th>\n",
       "      <th>Location_Noida</th>\n",
       "      <th>Location_Pune</th>\n",
       "    </tr>\n",
       "  </thead>\n",
       "  <tbody>\n",
       "    <tr>\n",
       "      <th>0</th>\n",
       "      <td>ID_2842</td>\n",
       "      <td>3</td>\n",
       "      <td>350</td>\n",
       "      <td>50</td>\n",
       "      <td>4.20</td>\n",
       "      <td>361</td>\n",
       "      <td>225</td>\n",
       "      <td>1</td>\n",
       "      <td>0</td>\n",
       "      <td>0</td>\n",
       "      <td>0</td>\n",
       "      <td>0</td>\n",
       "      <td>0</td>\n",
       "      <td>0</td>\n",
       "      <td>0</td>\n",
       "    </tr>\n",
       "    <tr>\n",
       "      <th>1</th>\n",
       "      <td>ID_730</td>\n",
       "      <td>2</td>\n",
       "      <td>100</td>\n",
       "      <td>50</td>\n",
       "      <td>2.95</td>\n",
       "      <td>182</td>\n",
       "      <td>87</td>\n",
       "      <td>1</td>\n",
       "      <td>0</td>\n",
       "      <td>0</td>\n",
       "      <td>0</td>\n",
       "      <td>0</td>\n",
       "      <td>0</td>\n",
       "      <td>0</td>\n",
       "      <td>0</td>\n",
       "    </tr>\n",
       "    <tr>\n",
       "      <th>2</th>\n",
       "      <td>ID_4620</td>\n",
       "      <td>1</td>\n",
       "      <td>100</td>\n",
       "      <td>50</td>\n",
       "      <td>3.60</td>\n",
       "      <td>36</td>\n",
       "      <td>16</td>\n",
       "      <td>0</td>\n",
       "      <td>0</td>\n",
       "      <td>0</td>\n",
       "      <td>0</td>\n",
       "      <td>0</td>\n",
       "      <td>0</td>\n",
       "      <td>1</td>\n",
       "      <td>0</td>\n",
       "    </tr>\n",
       "    <tr>\n",
       "      <th>3</th>\n",
       "      <td>ID_5470</td>\n",
       "      <td>5</td>\n",
       "      <td>200</td>\n",
       "      <td>50</td>\n",
       "      <td>3.60</td>\n",
       "      <td>66</td>\n",
       "      <td>33</td>\n",
       "      <td>0</td>\n",
       "      <td>1</td>\n",
       "      <td>0</td>\n",
       "      <td>0</td>\n",
       "      <td>0</td>\n",
       "      <td>0</td>\n",
       "      <td>0</td>\n",
       "      <td>0</td>\n",
       "    </tr>\n",
       "    <tr>\n",
       "      <th>4</th>\n",
       "      <td>ID_3249</td>\n",
       "      <td>2</td>\n",
       "      <td>150</td>\n",
       "      <td>50</td>\n",
       "      <td>2.90</td>\n",
       "      <td>38</td>\n",
       "      <td>14</td>\n",
       "      <td>0</td>\n",
       "      <td>0</td>\n",
       "      <td>0</td>\n",
       "      <td>0</td>\n",
       "      <td>0</td>\n",
       "      <td>0</td>\n",
       "      <td>1</td>\n",
       "      <td>0</td>\n",
       "    </tr>\n",
       "  </tbody>\n",
       "</table>\n",
       "</div>"
      ],
      "text/plain": [
       "  Restaurant  Cuisines  Average_Cost  Minimum_Order  Rating  Votes  Reviews  \\\n",
       "0    ID_2842         3           350             50    4.20    361      225   \n",
       "1     ID_730         2           100             50    2.95    182       87   \n",
       "2    ID_4620         1           100             50    3.60     36       16   \n",
       "3    ID_5470         5           200             50    3.60     66       33   \n",
       "4    ID_3249         2           150             50    2.90     38       14   \n",
       "\n",
       "   Location_Bangalore  Location_Delhi  Location_Gurgoan  Location_Hyderabad  \\\n",
       "0                   1               0                 0                   0   \n",
       "1                   1               0                 0                   0   \n",
       "2                   0               0                 0                   0   \n",
       "3                   0               1                 0                   0   \n",
       "4                   0               0                 0                   0   \n",
       "\n",
       "   Location_Kolkata  Location_Mumbai  Location_Noida  Location_Pune  \n",
       "0                 0                0               0              0  \n",
       "1                 0                0               0              0  \n",
       "2                 0                0               1              0  \n",
       "3                 0                0               0              0  \n",
       "4                 0                0               1              0  "
      ]
     },
     "execution_count": 73,
     "metadata": {},
     "output_type": "execute_result"
    }
   ],
   "source": [
    "data2.head(5)"
   ]
  },
  {
   "cell_type": "code",
   "execution_count": 74,
   "metadata": {},
   "outputs": [],
   "source": [
    "X=data1.loc[:,['Average_Cost','Minimum_Order','Votes','Rating','Cuisines','Location_Bangalore','Location_Gurgoan','Location_Hyderabad','Location_Kolkata','Location_Mumbai','Location_Noida','Location_Pune']]\n",
    "Y=data1.loc[:,['Delivery_Time']]"
   ]
  },
  {
   "cell_type": "code",
   "execution_count": 75,
   "metadata": {},
   "outputs": [],
   "source": [
    "from sklearn.model_selection import train_test_split \n",
    "X_train, X_test, y_train, y_test = train_test_split(X,Y,test_size = 0.2, random_state = 100) \n"
   ]
  },
  {
   "cell_type": "code",
   "execution_count": 76,
   "metadata": {},
   "outputs": [
    {
     "name": "stderr",
     "output_type": "stream",
     "text": [
      "/home/himanshu.t@idexcel.internal/anaconda3/envs/pdf_test/lib/python3.7/site-packages/sklearn/preprocessing/label.py:219: DataConversionWarning: A column-vector y was passed when a 1d array was expected. Please change the shape of y to (n_samples, ), for example using ravel().\n",
      "  y = column_or_1d(y, warn=True)\n",
      "/home/himanshu.t@idexcel.internal/anaconda3/envs/pdf_test/lib/python3.7/site-packages/sklearn/preprocessing/label.py:252: DataConversionWarning: A column-vector y was passed when a 1d array was expected. Please change the shape of y to (n_samples, ), for example using ravel().\n",
      "  y = column_or_1d(y, warn=True)\n"
     ]
    }
   ],
   "source": [
    "from xgboost import XGBClassifier\n",
    "from sklearn.metrics import accuracy_score\n",
    "XGB = XGBClassifier()\n",
    "XGB.fit(X_train, y_train)\n",
    "y_pred = XGB.predict(X_test)\n",
    "predictions = [round(value) for value in y_pred]"
   ]
  },
  {
   "cell_type": "code",
   "execution_count": 77,
   "metadata": {},
   "outputs": [],
   "source": [
    "from sklearn.metrics import accuracy_score\n"
   ]
  },
  {
   "cell_type": "code",
   "execution_count": 78,
   "metadata": {},
   "outputs": [],
   "source": [
    "accuracy = accuracy_score(y_test, predictions)"
   ]
  },
  {
   "cell_type": "code",
   "execution_count": 79,
   "metadata": {},
   "outputs": [
    {
     "name": "stdout",
     "output_type": "stream",
     "text": [
      "0.733213159080667\n"
     ]
    }
   ],
   "source": [
    "print(accuracy)"
   ]
  },
  {
   "cell_type": "code",
   "execution_count": 80,
   "metadata": {},
   "outputs": [],
   "source": [
    "skewValue = data1.skew(axis=0)"
   ]
  },
  {
   "cell_type": "code",
   "execution_count": 81,
   "metadata": {},
   "outputs": [
    {
     "data": {
      "text/plain": [
       "Cuisines              1.232586\n",
       "Average_Cost          2.938567\n",
       "Minimum_Order         7.390346\n",
       "Rating                0.228977\n",
       "Votes                 6.293221\n",
       "Reviews               7.850144\n",
       "Delivery_Time         2.579849\n",
       "Location_Bangalore    1.567156\n",
       "Location_Delhi        1.635364\n",
       "Location_Gurgoan      3.436434\n",
       "Location_Hyderabad    5.160057\n",
       "Location_Kolkata      4.168350\n",
       "Location_Mumbai       2.093931\n",
       "Location_Noida        1.597052\n",
       "Location_Pune         1.988773\n",
       "dtype: float64"
      ]
     },
     "execution_count": 81,
     "metadata": {},
     "output_type": "execute_result"
    }
   ],
   "source": [
    "skewValue"
   ]
  },
  {
   "cell_type": "code",
   "execution_count": 82,
   "metadata": {},
   "outputs": [
    {
     "data": {
      "text/plain": [
       "Cuisines                2.172317\n",
       "Average_Cost           14.052062\n",
       "Minimum_Order         118.908612\n",
       "Rating                 -0.673473\n",
       "Votes                  58.189239\n",
       "Reviews                98.824274\n",
       "Delivery_Time          10.441096\n",
       "Location_Bangalore      0.456062\n",
       "Location_Delhi          0.674538\n",
       "Location_Gurgoan        9.810847\n",
       "Location_Hyderabad     24.630625\n",
       "Location_Kolkata       15.377915\n",
       "Location_Mumbai         2.384975\n",
       "Location_Noida          0.550673\n",
       "Location_Pune           1.955571\n",
       "dtype: float64"
      ]
     },
     "execution_count": 82,
     "metadata": {},
     "output_type": "execute_result"
    }
   ],
   "source": [
    "data1.kurtosis()"
   ]
  },
  {
   "cell_type": "code",
   "execution_count": 83,
   "metadata": {},
   "outputs": [
    {
     "name": "stdout",
     "output_type": "stream",
     "text": [
      "\n",
      "Skewness for data :  [2.57950034]\n"
     ]
    },
    {
     "data": {
      "image/png": "[encoded data removed]",
      "text/plain": [
       "<Figure size 432x288 with 1 Axes>"
      ]
     },
     "metadata": {
      "needs_background": "light"
     },
     "output_type": "display_data"
    }
   ],
   "source": [
    "from scipy.stats import skew \n",
    "import numpy as np  \n",
    "import pylab as p  \n",
    "  \n",
    "p.plot(X,Y, '*') \n",
    "  \n",
    "print( '\\nSkewness for data : ', skew(Y)) "
   ]
  },
  {
   "cell_type": "code",
   "execution_count": 84,
   "metadata": {},
   "outputs": [],
   "source": [
    "# X2_test=data2.loc[:,['Location','Average_Cost','Minimum_Order','Votes','Rating','Cuisines']]"
   ]
  },
  {
   "cell_type": "code",
   "execution_count": 85,
   "metadata": {},
   "outputs": [],
   "source": [
    "# y_pred2_test = XGB.predict(X2_test)\n",
    "# predictions = [round(value) for value in y_pred2_test]"
   ]
  },
  {
   "cell_type": "code",
   "execution_count": 86,
   "metadata": {},
   "outputs": [],
   "source": [
    "\n",
    "# X2_test=data2.loc[:,['Average_Cost','Minimum_Order','Votes','Rating','Cuisines']]"
   ]
  },
  {
   "cell_type": "code",
   "execution_count": 87,
   "metadata": {},
   "outputs": [
    {
     "ename": "NameError",
     "evalue": "name 'y_pred2_test' is not defined",
     "output_type": "error",
     "traceback": [
      "\u001b[0;31m---------------------------------------------------------------------------\u001b[0m",
      "\u001b[0;31mNameError\u001b[0m                                 Traceback (most recent call last)",
      "\u001b[0;32m<ipython-input-87-d7003073718a>\u001b[0m in \u001b[0;36m<module>\u001b[0;34m\u001b[0m\n\u001b[0;32m----> 1\u001b[0;31m \u001b[0my_pred2_test\u001b[0m\u001b[0;34m\u001b[0m\u001b[0;34m\u001b[0m\u001b[0m\n\u001b[0m",
      "\u001b[0;31mNameError\u001b[0m: name 'y_pred2_test' is not defined"
     ]
    }
   ],
   "source": [
    "y_pred2_test"
   ]
  },
  {
   "cell_type": "code",
   "execution_count": null,
   "metadata": {},
   "outputs": [],
   "source": [
    "string=\" minutes\""
   ]
  },
  {
   "cell_type": "code",
   "execution_count": null,
   "metadata": {},
   "outputs": [],
   "source": [
    "y_pred2_test=y_pred2_test.tolist()"
   ]
  },
  {
   "cell_type": "code",
   "execution_count": null,
   "metadata": {},
   "outputs": [],
   "source": [
    "my_new_list2_test = pd.DataFrame([str(x) + string for x in y_pred2_test],columns=[\"Delivery_Time\"])\n"
   ]
  },
  {
   "cell_type": "code",
   "execution_count": null,
   "metadata": {},
   "outputs": [],
   "source": [
    "my_new_list2_test.Delivery_Time.value_counts()"
   ]
  },
  {
   "cell_type": "code",
   "execution_count": null,
   "metadata": {},
   "outputs": [],
   "source": [
    "my_new_list2_test.to_excel('Submission11.xlsx', index=False)"
   ]
  },
  {
   "cell_type": "code",
   "execution_count": null,
   "metadata": {},
   "outputs": [],
   "source": []
  },
  {
   "cell_type": "code",
   "execution_count": null,
   "metadata": {},
   "outputs": [],
   "source": [
    "# from xgboost import XGBClassifier\n",
    "\n",
    "# XGB = XGBClassifier()\n",
    "# XGB.fit(X_train, y_train)\n",
    "# y_pred = XGB.predict(X_test)\n",
    "# "
   ]
  },
  {
   "cell_type": "code",
   "execution_count": null,
   "metadata": {},
   "outputs": [],
   "source": [
    "# y_pred_test"
   ]
  },
  {
   "cell_type": "code",
   "execution_count": null,
   "metadata": {},
   "outputs": [],
   "source": [
    "# "
   ]
  },
  {
   "cell_type": "code",
   "execution_count": null,
   "metadata": {},
   "outputs": [],
   "source": [
    "# y_pred_test=y_pred_test.tolist()"
   ]
  },
  {
   "cell_type": "code",
   "execution_count": null,
   "metadata": {},
   "outputs": [],
   "source": [
    "# my_new_list2_test = pd.DataFrame([str(x) + string for x in y_pred_test],columns=[\"Delivery_Time\"])"
   ]
  },
  {
   "cell_type": "code",
   "execution_count": null,
   "metadata": {},
   "outputs": [],
   "source": [
    "# my_new_list2_test.Delivery_Time.value_counts()"
   ]
  },
  {
   "cell_type": "code",
   "execution_count": null,
   "metadata": {},
   "outputs": [],
   "source": [
    "# from sklearn.preprocessing import MinMaxScaler"
   ]
  },
  {
   "cell_type": "code",
   "execution_count": null,
   "metadata": {},
   "outputs": [],
   "source": [
    "# scaler = MinMaxScaler()\n"
   ]
  },
  {
   "cell_type": "code",
   "execution_count": null,
   "metadata": {},
   "outputs": [],
   "source": [
    "# data1_new=data1.loc[:,['Average_Cost','Minimum_Order','Votes','Rating','Cuisines']]"
   ]
  },
  {
   "cell_type": "code",
   "execution_count": null,
   "metadata": {},
   "outputs": [],
   "source": [
    "# df_scaled = pd.DataFrame(scaler.fit_transform(data1_new), columns=data1_new.columns)\n"
   ]
  },
  {
   "cell_type": "code",
   "execution_count": null,
   "metadata": {},
   "outputs": [],
   "source": []
  },
  {
   "cell_type": "code",
   "execution_count": null,
   "metadata": {},
   "outputs": [],
   "source": [
    "# from sklearn.model_selection import train_test_split \n",
    "# X_train, X_test, y_train, y_test = train_test_split(df_scaled,Y,test_size = 0.2, random_state = 100) "
   ]
  },
  {
   "cell_type": "code",
   "execution_count": null,
   "metadata": {},
   "outputs": [],
   "source": [
    "# from xgboost import XGBClassifier\n",
    "# from sklearn.metrics import accuracy_score\n",
    "# XGB = XGBClassifier()\n",
    "# XGB.fit(X_train, y_train)\n",
    "# "
   ]
  },
  {
   "cell_type": "code",
   "execution_count": null,
   "metadata": {},
   "outputs": [],
   "source": [
    "# accuracy = accuracy_score(y_test, predictions)"
   ]
  },
  {
   "cell_type": "code",
   "execution_count": null,
   "metadata": {},
   "outputs": [],
   "source": [
    "# print(accuracy)"
   ]
  },
  {
   "cell_type": "code",
   "execution_count": null,
   "metadata": {},
   "outputs": [],
   "source": []
  },
  {
   "cell_type": "code",
   "execution_count": null,
   "metadata": {},
   "outputs": [],
   "source": [
    "# import xgboost as xgb\n",
    "# from sklearn.model_selection import GridSearchCV"
   ]
  },
  {
   "cell_type": "code",
   "execution_count": null,
   "metadata": {},
   "outputs": [],
   "source": [
    "# from xgboost import XGBClassifier\n",
    "# XGB = XGBClassifier()\n",
    "# XGB.fit(X_train, y_train)\n",
    "# y_pred = XGB.predict(X_test)\n",
    "# predictions = [round(value) for value in y_pred]\n",
    "# accuracy = accuracy_score(y_test, predictions)\n",
    "\n"
   ]
  },
  {
   "cell_type": "code",
   "execution_count": null,
   "metadata": {},
   "outputs": [],
   "source": [
    "# print(\"Accuracy: %.2f%%\" % (accuracy * 100.0))"
   ]
  },
  {
   "cell_type": "code",
   "execution_count": null,
   "metadata": {},
   "outputs": [],
   "source": [
    "\n",
    "# data1.Location.value_counts()"
   ]
  },
  {
   "cell_type": "code",
   "execution_count": null,
   "metadata": {},
   "outputs": [],
   "source": [
    "# ax = sns.countplot(x=\"Location\", data=data1)"
   ]
  },
  {
   "cell_type": "code",
   "execution_count": null,
   "metadata": {},
   "outputs": [],
   "source": [
    "# df_new_train=data1.loc[:,['Average_Cost','Minimum_Order','Votes','Reviews','Delivery_Time']]"
   ]
  },
  {
   "cell_type": "markdown",
   "metadata": {},
   "source": [
    "# Handling the outliers"
   ]
  },
  {
   "cell_type": "code",
   "execution_count": null,
   "metadata": {},
   "outputs": [],
   "source": [
    "# Q1 = df_new_train.quantile(0.25)\n",
    "# Q3 = df_new_train.quantile(0.75)\n",
    "# IQR = Q3 - Q1\n",
    "# print(IQR)"
   ]
  },
  {
   "cell_type": "code",
   "execution_count": null,
   "metadata": {},
   "outputs": [],
   "source": [
    "# df_new_train_out = df_new_train[~((df_new_train < (Q1 - 1.5 * IQR)) |(df_new_train > (Q3 + 1.5 * IQR))).any(axis=1)]"
   ]
  },
  {
   "cell_type": "code",
   "execution_count": null,
   "metadata": {},
   "outputs": [],
   "source": [
    "# df_new_train_out.shape"
   ]
  },
  {
   "cell_type": "code",
   "execution_count": null,
   "metadata": {},
   "outputs": [],
   "source": [
    "# df_new_train.shape"
   ]
  },
  {
   "cell_type": "code",
   "execution_count": null,
   "metadata": {},
   "outputs": [],
   "source": [
    "# data2.dtypes"
   ]
  },
  {
   "cell_type": "code",
   "execution_count": null,
   "metadata": {},
   "outputs": [],
   "source": [
    "# df_new_test=data2.loc[:,['Average_Cost','Minimum_Order','Votes','Reviews']]"
   ]
  },
  {
   "cell_type": "code",
   "execution_count": null,
   "metadata": {},
   "outputs": [],
   "source": [
    "# Q1 = df_new_test.quantile(0.25)\n",
    "# Q3 = df_new_test.quantile(0.75)\n",
    "# IQR = Q3 - Q1\n",
    "# print(IQR)"
   ]
  },
  {
   "cell_type": "code",
   "execution_count": null,
   "metadata": {},
   "outputs": [],
   "source": [
    "# df_new_test_out = df_new_test[~((df_new_test < (Q1 - 1.5 * IQR)) |(df_new_test > (Q3 + 1.5 * IQR))).any(axis=1)]"
   ]
  },
  {
   "cell_type": "code",
   "execution_count": null,
   "metadata": {},
   "outputs": [],
   "source": [
    "# df_new_test_out.shape\n"
   ]
  },
  {
   "cell_type": "code",
   "execution_count": null,
   "metadata": {},
   "outputs": [],
   "source": [
    "# df_new_test.shape"
   ]
  },
  {
   "cell_type": "markdown",
   "metadata": {},
   "source": [
    "# Now Apply XG BOOST AGAIN"
   ]
  },
  {
   "cell_type": "code",
   "execution_count": null,
   "metadata": {},
   "outputs": [],
   "source": [
    "from xgboost.sklearn import XGBClassifier\n",
    "from xgboost import XGBClassifier"
   ]
  },
  {
   "cell_type": "code",
   "execution_count": null,
   "metadata": {},
   "outputs": [],
   "source": [
    "# X2=df_new_train_out.loc[:,['Average_Cost','Minimum_Order','Votes','Reviews']]\n",
    "# Y2=df_new_train_out.loc[:,['Delivery_Time']]"
   ]
  },
  {
   "cell_type": "code",
   "execution_count": null,
   "metadata": {},
   "outputs": [],
   "source": [
    "# X_train2, X_test2, y_train2, y_test2 = train_test_split(X2,Y2,test_size = 0.2, random_state = 100) "
   ]
  },
  {
   "cell_type": "code",
   "execution_count": null,
   "metadata": {},
   "outputs": [],
   "source": [
    "# from xgboost import XGBClassifier\n",
    "# XGB2= XGBClassifier(learning_rate =0.1,\n",
    "#  n_estimators=1000,\n",
    "#  max_depth=4,\n",
    "#  min_child_weight=6,\n",
    "#  gamma=0,\n",
    "#  subsample=0.8,\n",
    "#  colsample_bytree=0.8,\n",
    "#  objective= None,\n",
    "#  nthread=4,\n",
    "#  scale_pos_weight=1,\n",
    "#  seed=27)\n",
    "# XGB2.fit(X_train2, y_train2)\n",
    "# y_pred = XGB2.predict(X_test2)\n",
    "# predictions = [round(value) for value in y_pred]\n",
    "# accuracy = accuracy_score(y_test2, predictions)\n"
   ]
  },
  {
   "cell_type": "code",
   "execution_count": null,
   "metadata": {},
   "outputs": [],
   "source": [
    "#print(\"Accuracy: %.2f%%\" % (accuracy * 100.0))"
   ]
  },
  {
   "cell_type": "code",
   "execution_count": null,
   "metadata": {},
   "outputs": [],
   "source": []
  },
  {
   "cell_type": "code",
   "execution_count": null,
   "metadata": {},
   "outputs": [],
   "source": []
  },
  {
   "cell_type": "code",
   "execution_count": null,
   "metadata": {},
   "outputs": [],
   "source": [
    "# print(\"Accuracy: %.2f%%\" % (accuracy * 100.0))"
   ]
  },
  {
   "cell_type": "code",
   "execution_count": null,
   "metadata": {},
   "outputs": [],
   "source": [
    "# y_pred"
   ]
  },
  {
   "cell_type": "code",
   "execution_count": null,
   "metadata": {},
   "outputs": [],
   "source": [
    "# type(y_pred)"
   ]
  },
  {
   "cell_type": "code",
   "execution_count": null,
   "metadata": {},
   "outputs": [],
   "source": [
    "# y_pred=y_pred.tolist()"
   ]
  },
  {
   "cell_type": "code",
   "execution_count": null,
   "metadata": {},
   "outputs": [],
   "source": [
    "string=\" minutes\""
   ]
  },
  {
   "cell_type": "code",
   "execution_count": null,
   "metadata": {},
   "outputs": [],
   "source": [
    "cities2={'Pune':['FTI College, Law College Road, Pune','Pune University','MG Road, Pune','Nathan Road, Mangaldas Road, Pune']\n",
    "        ,'Noida':['Sector 1, Noida','D-Block, Sector 63, Noida','Sector 14, Noida']\n",
    "        ,'Kolkata':['Moulali, Kolkata','Gora Bazar, Rajbari, North Dumdum, Kolkata','Tiretti, Kolkata','Chandni Chowk, Kolkata','Raja Bazar, Kolkata']\n",
    "        ,'Bangalore':['Sector 3, Marathalli','Rmz Centennial, I Gate, Whitefield','Mico Layout, Stage 2, BTM Layout,Bangalore','Majestic','BTM Layout 1, Electronic City']\n",
    "        ,'Mumbai':['Mumbai Central','Yerawada, Pune, Maharashtra','Dockyard Road, Mumbai CST Area','Sandhurst Road, Mumbai CST Area','Tejas Nagar Colony, Wadala West, Mumbai']\n",
    "        ,'Hyderabad':['Hyderabad Public School, Begumpet','Chatta Bazaar, Malakpet, Hyderabad','Panjetan Colony, Malakpet, Hyderabad','Jaya Nagar, Saidabad, Hyderabad','Noorkhan Bazaar, Malakpet, Hyderabad','Musi Nagar, Malakpet, Hyderabad']\n",
    "        ,'Delhi':['Delhi University-GTB Nagar','Delhi Administration Flats, Timarpur','Delhi High Court, India Gate','Delhi Cantt.','Babarpur, New Delhi, Delhi']\n",
    "       ,'Gurgoan':['Laxman Vihar Industrial Area, Sector 3A, Gurgoan','Sector 63A,Gurgaon']}"
   ]
  },
  {
   "cell_type": "code",
   "execution_count": null,
   "metadata": {},
   "outputs": [],
   "source": [
    "for k, v in cities2.items():\n",
    "     for i in v:\n",
    "         data2.loc[(data2.Location==i),'Location']=k"
   ]
  },
  {
   "cell_type": "code",
   "execution_count": null,
   "metadata": {},
   "outputs": [],
   "source": [
    "# X2_test=data2.loc[:,['Average_Cost','Minimum_Order','Votes','Reviews']]"
   ]
  },
  {
   "cell_type": "code",
   "execution_count": null,
   "metadata": {},
   "outputs": [],
   "source": [
    "# y_pred2_test = XGB.predict(X2_test)\n",
    "# predictions = [round(value) for value in y_pred2_test]"
   ]
  },
  {
   "cell_type": "code",
   "execution_count": null,
   "metadata": {},
   "outputs": [],
   "source": [
    "# y_pred2_test"
   ]
  },
  {
   "cell_type": "code",
   "execution_count": null,
   "metadata": {},
   "outputs": [],
   "source": [
    "# len(y_pred2_test)"
   ]
  },
  {
   "cell_type": "code",
   "execution_count": null,
   "metadata": {},
   "outputs": [],
   "source": [
    "# y_pred2_test=y_pred2_test.tolist()"
   ]
  },
  {
   "cell_type": "code",
   "execution_count": null,
   "metadata": {},
   "outputs": [],
   "source": [
    "# my_new_list2_test = pd.DataFrame([str(x) + string for x in y_pred2_test],columns=[\"Delivery_Time\"])"
   ]
  },
  {
   "cell_type": "code",
   "execution_count": null,
   "metadata": {},
   "outputs": [],
   "source": [
    "# my_new_list2_test.to_excel('Submission8.xlsx', index=False)"
   ]
  },
  {
   "cell_type": "code",
   "execution_count": null,
   "metadata": {},
   "outputs": [],
   "source": [
    "# data2.head"
   ]
  },
  {
   "cell_type": "code",
   "execution_count": null,
   "metadata": {},
   "outputs": [],
   "source": [
    "# from sklearn.preprocessing import OneHotEncoder\n",
    "# from sklearn.preprocessing import LabelEncoder\n",
    "\n",
    "# ohe = OneHotEncoder(categorical_features = [1])\n",
    "# X = ohe.fit_transform(X).toarray()\n"
   ]
  },
  {
   "cell_type": "code",
   "execution_count": null,
   "metadata": {},
   "outputs": [],
   "source": [
    "# for col in data1.columns[0:1]:\n",
    "#     print(col, ': ', len(data1[col].unique()), ' labels')"
   ]
  },
  {
   "cell_type": "code",
   "execution_count": null,
   "metadata": {},
   "outputs": [],
   "source": [
    "# data1.Restaurant.value_counts().to_dict()"
   ]
  },
  {
   "cell_type": "code",
   "execution_count": null,
   "metadata": {},
   "outputs": [],
   "source": []
  },
  {
   "cell_type": "code",
   "execution_count": null,
   "metadata": {},
   "outputs": [],
   "source": [
    "#data1_map = data1.Restaurant.value_counts().to_dict()"
   ]
  },
  {
   "cell_type": "code",
   "execution_count": null,
   "metadata": {},
   "outputs": [],
   "source": [
    "# data1.Restaurant = data1.Restaurant.map(data1_map)"
   ]
  },
  {
   "cell_type": "code",
   "execution_count": null,
   "metadata": {},
   "outputs": [],
   "source": [
    "# data1.Restaurant.value_counts(asce                                                                                                                   )"
   ]
  },
  {
   "cell_type": "code",
   "execution_count": null,
   "metadata": {},
   "outputs": [],
   "source": []
  },
  {
   "cell_type": "code",
   "execution_count": null,
   "metadata": {},
   "outputs": [],
   "source": []
  },
  {
   "cell_type": "code",
   "execution_count": null,
   "metadata": {},
   "outputs": [],
   "source": []
  },
  {
   "cell_type": "code",
   "execution_count": null,
   "metadata": {},
   "outputs": [],
   "source": [
    "\n"
   ]
  },
  {
   "cell_type": "code",
   "execution_count": null,
   "metadata": {},
   "outputs": [],
   "source": [
    "# i.split(',')\n",
    "#     #print(i)\n",
    "#     count=len(i)\n",
    "#     print(count,value)\n",
    "#     cuis.append(count)\n",
    "    "
   ]
  },
  {
   "cell_type": "code",
   "execution_count": null,
   "metadata": {},
   "outputs": [],
   "source": []
  },
  {
   "cell_type": "code",
   "execution_count": null,
   "metadata": {},
   "outputs": [],
   "source": [
    "# from sklearn.model_selection import GridSearchCV\n",
    "# import sklearn"
   ]
  },
  {
   "cell_type": "code",
   "execution_count": null,
   "metadata": {},
   "outputs": [],
   "source": []
  },
  {
   "cell_type": "code",
   "execution_count": null,
   "metadata": {},
   "outputs": [],
   "source": [
    "# data1=pd.DataFrame(cuis)"
   ]
  },
  {
   "cell_type": "code",
   "execution_count": null,
   "metadata": {},
   "outputs": [],
   "source": [
    "# data1"
   ]
  },
  {
   "cell_type": "code",
   "execution_count": null,
   "metadata": {},
   "outputs": [],
   "source": [
    "# from sklearn.metrics import accuracy_score\n",
    "\n",
    "# train_labels = [x for x in data1.columns if x not in ['Delivery_Time','Restaurant','Location','Cuisines']]\n",
    "# train_data_features=data2\n",
    "# def modelfit(alg, train_data_features, train_labels,useTrainCV=True, cv_folds=5):\n",
    "\n",
    "#     if useTrainCV:\n",
    "#         params=alg.get_xgb_params()\n",
    "#         xgb_param=dict([(key,[params[key]]) for key in params])\n",
    "\n",
    "#         boost = xgb.sklearn.XGBClassifier()\n",
    "#         cvresult = GridSearchCV(boost,xgb_param,cv=cv_folds)\n",
    "#         cvresult.fit(X_train,y_train)\n",
    "#         alg=cvresult.best_estimator_\n",
    "\n",
    "\n",
    "#     #Fit the algorithm on the data\n",
    "#     alg.fit(train_data_features, train_labels)\n",
    "\n",
    "#     #Predict training set:\n",
    "#     dtrain_predictions = alg.predict(train_data_features)\n",
    "#     dtrain_predprob = alg.predict_proba(train_data_features)[:,1]\n",
    "\n",
    "#     #Print model report:\n",
    "#     print(\"\\nModel Report\")\n",
    "#     print(dtrain_predictions)\n",
    "#     print(dtrain_predprob)\n",
    "# xgb1 = xgb.sklearn.XGBClassifier(\n",
    "#  learning_rate =0.1,\n",
    "#  n_estimators=50,\n",
    "#  max_depth=5,\n",
    "#  min_child_weight=1,\n",
    "#  gamma=0,\n",
    "#  subsample=0.8,\n",
    "#  colsample_bytree=0.8,\n",
    "#  objective='multi:softmax',\n",
    "#  nthread=4,\n",
    "#  scale_pos_weight=1,\n",
    "#  seed=27)    \n",
    "# modelfit(xgb1, X, Y)\n",
    "# print (\"Accuracy : %.4g\" % metrics.accuracy_score(data1['Delivery_Time'].values, dtrain_predictions))\n",
    "# import sklearn.metrics as metrics"
   ]
  },
  {
   "cell_type": "markdown",
   "metadata": {},
   "source": [
    "# Step 1: Dealing with Outliers\n"
   ]
  },
  {
   "cell_type": "code",
   "execution_count": null,
   "metadata": {},
   "outputs": [],
   "source": []
  },
  {
   "cell_type": "code",
   "execution_count": null,
   "metadata": {},
   "outputs": [],
   "source": []
  },
  {
   "cell_type": "code",
   "execution_count": null,
   "metadata": {},
   "outputs": [],
   "source": []
  },
  {
   "cell_type": "code",
   "execution_count": null,
   "metadata": {},
   "outputs": [],
   "source": []
  },
  {
   "cell_type": "code",
   "execution_count": null,
   "metadata": {},
   "outputs": [],
   "source": []
  },
  {
   "cell_type": "code",
   "execution_count": null,
   "metadata": {},
   "outputs": [],
   "source": []
  },
  {
   "cell_type": "code",
   "execution_count": null,
   "metadata": {},
   "outputs": [],
   "source": []
  },
  {
   "cell_type": "code",
   "execution_count": null,
   "metadata": {},
   "outputs": [],
   "source": []
  },
  {
   "cell_type": "code",
   "execution_count": null,
   "metadata": {},
   "outputs": [],
   "source": []
  },
  {
   "cell_type": "code",
   "execution_count": null,
   "metadata": {},
   "outputs": [],
   "source": []
  },
  {
   "cell_type": "code",
   "execution_count": null,
   "metadata": {},
   "outputs": [],
   "source": []
  },
  {
   "cell_type": "code",
   "execution_count": null,
   "metadata": {},
   "outputs": [],
   "source": []
  },
  {
   "cell_type": "code",
   "execution_count": null,
   "metadata": {},
   "outputs": [],
   "source": []
  },
  {
   "cell_type": "code",
   "execution_count": null,
   "metadata": {},
   "outputs": [],
   "source": []
  },
  {
   "cell_type": "code",
   "execution_count": null,
   "metadata": {},
   "outputs": [],
   "source": []
  },
  {
   "cell_type": "code",
   "execution_count": null,
   "metadata": {},
   "outputs": [],
   "source": []
  },
  {
   "cell_type": "code",
   "execution_count": null,
   "metadata": {},
   "outputs": [],
   "source": []
  },
  {
   "cell_type": "code",
   "execution_count": null,
   "metadata": {},
   "outputs": [],
   "source": [
    "\n"
   ]
  },
  {
   "cell_type": "code",
   "execution_count": null,
   "metadata": {},
   "outputs": [],
   "source": [
    "\n"
   ]
  },
  {
   "cell_type": "code",
   "execution_count": null,
   "metadata": {},
   "outputs": [],
   "source": [
    "\n",
    "\n"
   ]
  },
  {
   "cell_type": "code",
   "execution_count": null,
   "metadata": {},
   "outputs": [],
   "source": [
    "\n"
   ]
  },
  {
   "cell_type": "code",
   "execution_count": null,
   "metadata": {},
   "outputs": [],
   "source": []
  },
  {
   "cell_type": "code",
   "execution_count": null,
   "metadata": {},
   "outputs": [],
   "source": []
  },
  {
   "cell_type": "code",
   "execution_count": null,
   "metadata": {},
   "outputs": [],
   "source": []
  },
  {
   "cell_type": "code",
   "execution_count": null,
   "metadata": {},
   "outputs": [],
   "source": []
  },
  {
   "cell_type": "code",
   "execution_count": null,
   "metadata": {},
   "outputs": [],
   "source": []
  },
  {
   "cell_type": "code",
   "execution_count": null,
   "metadata": {},
   "outputs": [],
   "source": []
  },
  {
   "cell_type": "code",
   "execution_count": null,
   "metadata": {},
   "outputs": [],
   "source": []
  },
  {
   "cell_type": "code",
   "execution_count": null,
   "metadata": {},
   "outputs": [],
   "source": []
  },
  {
   "cell_type": "code",
   "execution_count": null,
   "metadata": {},
   "outputs": [],
   "source": []
  },
  {
   "cell_type": "code",
   "execution_count": null,
   "metadata": {},
   "outputs": [],
   "source": []
  },
  {
   "cell_type": "code",
   "execution_count": null,
   "metadata": {},
   "outputs": [],
   "source": []
  },
  {
   "cell_type": "code",
   "execution_count": null,
   "metadata": {},
   "outputs": [],
   "source": []
  },
  {
   "cell_type": "code",
   "execution_count": null,
   "metadata": {},
   "outputs": [],
   "source": []
  },
  {
   "cell_type": "code",
   "execution_count": null,
   "metadata": {},
   "outputs": [],
   "source": [
    "# kfold = KFold(n_splits=5, random_state=10)\n",
    "# results = cross_val_score(XGB,X1,Y1, cv=kfold)\n"
   ]
  },
  {
   "cell_type": "code",
   "execution_count": null,
   "metadata": {},
   "outputs": [],
   "source": [
    "# print(\"Accuracy: %.2f%% (%.2f%%)\" % (results.mean()*100, results.std()*100))"
   ]
  },
  {
   "cell_type": "code",
   "execution_count": null,
   "metadata": {},
   "outputs": [],
   "source": [
    "# for i in list1:\n",
    "#     gp_sum=data1.groupby('Location')['Delivery_Time'].sum()\n",
    "#     gp_mean=data1.groupby('Location')['Delivery_Time'].min()\n",
    "#     gp_max=data1.groupby('Location')['Delivery_Time'].max()\n",
    "#     gp_min=data1.groupby('Location')['Delivery_Time'].mean()\n",
    "#     list11=[]\n",
    "#     list12=[]\n",
    "#     list13=[]\n",
    "#     list14=[]\n",
    "#     for key,value in enumerate(gp_sum):\n",
    "#         list11.append(value)\n",
    "#     for key,value in enumerate(gp_min):\n",
    "#         list12.append(value)list_key_value = [ [k,v] for k, v in dict.items() ]\n",
    "#     for key,value in enumerate(gp_max):\n",
    "#         list13.append(value)\n",
    "#     for key,value in enumerate(gp_mean):\n",
    "#         list14.append(value)\n",
    "\n",
    "# data_new2=data1.loc[:,['Minimum_Order','Reviews','Delivery_Time','Average_Cost','new_ft']]\n",
    "# x=data_new2.loc[:,['Minimum_Order','Reviews','Average_Cost','new_ft']]\n",
    "# y=data_new2.loc[:,['Delivery_Time']]\n",
    "# from sklearn.linear_model import LogisticRegression\n",
    "# logreg=LogisticRegression(solver=\"lbfgs\")\n",
    "# from sklearn.model_selection import cross_val_score\n",
    "# cross_val_score(logreg,x,y,cv=5,scoring='accuracy').mean()\n",
    "# corr = data_new2.corr()\n",
    "# ax = sns.heatmap(\n",
    "#     corr, \n",
    "#     vmin=-1, vmax=1, center=0,\n",
    "#     cmap=sns.diverging_palette(20, 220, n=200),\n",
    "#     square=True\n",
    "# )\n",
    "# ax.set_xticklabels(accuracy = accuracy_score(y_test, predictions)\n",
    "#     ax.get_xticklabels(),\n",
    "#     rotation=45,\n",
    "#     horizontalalignment='right'\n",
    "# );\n",
    "# data1['gp_sum'] = pd.Series(list11)\n",
    "# data1['gp_min'] = pd.Series(list12)\n",
    "# data1['gp_max'] = pd.Series(list13)\n",
    "# data1['gp_mean'] = pd.Series(list14)\n",
    "# data1['gp_min'] = data1['gp_min'].astype(int)\n",
    "# data1['gp_max'] = data1['gp_max'].astype(int)\n",
    "# data1['gp_mean'] = data1['gp_mean'].astype(int)\n",
    "# data1['gp_sum']=data1['gp_sum'].astype(int)\n",
    "# from sklearn.model_selection import KFold\n",
    "# from sklearn.neighbors import KNeighborsClassifier\n",
    "# knn = KNeighborsClassifier(n_neighbors=5)\n",
    "# scores = cross_val_score(knn, x, y, cv=10, scoring='accuracy')\n",
    "# print(scores)\n",
    "# print(type(scores))\n",
    "# k_range=range(1,5)\n",
    "# k_scores=[]\n",
    "# for k in k_range:\n",
    "#     knn = KNeighborsClassifier(n_neighbors=k)\n",
    "#     scores = cross_val_score(knn, x, y, cv=10, scoring='accuracy')\n",
    "#     k_scores.append(scores.mean())\n",
    "# print(k_scores)\n",
    "#CHecking the best hyperparameter for the value of \n",
    "# %matplotlib inline\n",
    "# plt.plot(k_range,k_scores)\n",
    "# plt.xlabel(\"value for k\")\n",
    "# plt.ylabel(\"accuracy for different values of k\")\n",
    "# data_new2=data1.loc[:,['Minimum_Order','Reviews','Delivery_Time','Average_Cost','new_ft']]\n",
    "# x=data_new2.loc[:,['Minimum_Order','Reviews','Average_Cost','new_ft']]\n",
    "# y=data_new2.loc[:,['Delivery_Time']]\n",
    "# from sklearn.linear_model import LogisticRegression\n",
    "# logreg=LogisticRegression(solver=\"lbfgs\")\n",
    "# from sklearn.model_selection import cross_val_score\n",
    "# cross_val_score(logreg,x,y,cv=5,scoring='accuracy').mean()\n",
    "# corr = data_new2.corr()\n",
    "# ax = sns.heatmap(\n",
    "#     corr, \n",
    "#     vmin=-1, vmax=1, center=0,\n",
    "#     cmap=sns.diverging_palette(20, 220, n=200),\n",
    "#     square=True\n",
    "# )\n",
    "# ax.set_xticklabels(\n",
    "#     ax.get_xticklabels(),\n",
    "#     rotation=45,\n",
    "#     horizontalalignment='right'￼\n",
    "# for i in data1.Cuisines:\n",
    "#     print(i)\n",
    "# );\n",
    "# data1['gp_min'] = data1['gp_min'].astype(int)\n",
    "# data1['gp_max'] = data1['gp_max'].astype(int)\n",
    "# data1['gp_mean'] = data1['gp_mean'].astype(int)\n",
    "# data1['gp_sum']=data1['gp_sum'].astype(int)# data1.head(5)"
   ]
  },
  {
   "cell_type": "code",
   "execution_count": null,
   "metadata": {},
   "outputs": [],
   "source": []
  },
  {
   "cell_type": "code",
   "execution_count": null,
   "metadata": {},
   "outputs": [],
   "source": []
  }
 ],
 "metadata": {
  "kernelspec": {
   "display_name": "Python 3",
   "language": "python",
   "name": "python3"
  },
  "language_info": {
   "codemirror_mode": {
    "name": "ipython",
    "version": 3
   },
   "file_extension": ".py",
   "mimetype": "text/x-python",
   "name": "python",
   "nbconvert_exporter": "python",
   "pygments_lexer": "ipython3",
   "version": "3.7.3"
  },
  "toc": {
   "base_numbering": 1,
   "nav_menu": {},
   "number_sections": true,
   "sideBar": true,
   "skip_h1_title": false,
   "title_cell": "Table of Contents",
   "title_sidebar": "Contents",
   "toc_cell": false,
   "toc_position": {},
   "toc_section_display": true,
   "toc_window_display": false
  }
 },
 "nbformat": 4,
 "nbformat_minor": 2
}
